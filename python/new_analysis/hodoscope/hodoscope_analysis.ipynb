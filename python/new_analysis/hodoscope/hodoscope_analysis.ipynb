{
 "cells": [
  {
   "cell_type": "markdown",
   "id": "21901544",
   "metadata": {},
   "source": [
    "# Test beam analysis"
   ]
  },
  {
   "cell_type": "markdown",
   "id": "24bff50c",
   "metadata": {},
   "source": [
    "### Necessary Imports"
   ]
  },
  {
   "cell_type": "code",
   "execution_count": 1,
   "id": "17abc9d7",
   "metadata": {},
   "outputs": [],
   "source": [
    "import os\n",
    "import uproot\n",
    "import math\n",
    "import pandas as pd\n",
    "import numpy as np\n",
    "import matplotlib\n",
    "import matplotlib.pyplot as plt\n",
    "import seaborn as sns\n",
    "\n",
    "import hodoscope_functions as hd\n",
    "\n",
    "from scipy.optimize import curve_fit\n",
    "from scipy.stats import norm, moyal\n",
    "from scipy.signal import find_peaks\n",
    "\n",
    "pd.options.display.max_columns = 500\n",
    "pd.options.display.max_rows = 100000"
   ]
  },
  {
   "cell_type": "markdown",
   "id": "76961037",
   "metadata": {},
   "source": [
    "### Read the nTuple data into a Pandas DataFrame"
   ]
  },
  {
   "cell_type": "code",
   "execution_count": 2,
   "id": "af4a9a0c",
   "metadata": {},
   "outputs": [],
   "source": [
    "ntuple_dir = \"/Users/jrenner/local/data/beamtest/ntuple_files/\"\n",
    "ntuple_pd_dir = \"/Users/jrenner/temp/hk/beamtest/ntuple_dataframes/\""
   ]
  },
  {
   "cell_type": "markdown",
   "id": "15238aa2",
   "metadata": {},
   "source": [
    "### Create dataframes for all runs"
   ]
  },
  {
   "cell_type": "code",
   "execution_count": null,
   "id": "fc275ce7",
   "metadata": {},
   "outputs": [],
   "source": [
    "runs = np.arange(630,766)\n",
    "for run in runs:\n",
    "    ntuple_file = \"{}/ntuple_000{}.root\".format(ntuple_dir,run)\n",
    "    output_dir = \"{}/run000{}\".format(ntuple_pd_dir,run)\n",
    "    \n",
    "    # Make sure the file exists\n",
    "    if(not os.path.isfile(ntuple_file)):\n",
    "        continue\n",
    "    \n",
    "    print(\"Creating dataframes for run\",run,\"...\")\n",
    "    \n",
    "    # Create the dataframe dictionary\n",
    "    df_dict = hd.ntuple_to_pd_multipeak(ntuple_file)\n",
    "\n",
    "    # Save all the dataframes for this run\n",
    "    if not os.path.exists(output_dir):\n",
    "        os.makedirs(output_dir)\n",
    "\n",
    "    for key, df in df_dict.items():\n",
    "        filepath = os.path.join(output_dir, f\"{key}.csv\")\n",
    "        df.to_csv(filepath, index=False)"
   ]
  },
  {
   "cell_type": "markdown",
   "id": "6d2a5c36",
   "metadata": {},
   "source": [
    "### Plot all quantities for each signal for each run"
   ]
  },
  {
   "cell_type": "code",
   "execution_count": null,
   "id": "98e97a5f",
   "metadata": {},
   "outputs": [],
   "source": [
    "runs = np.arange(730,766)\n",
    "for run in runs:\n",
    "    rnum = f\"000{run}\"\n",
    "    run_dir = \"{}/run{}\".format(ntuple_pd_dir, rnum)\n",
    "    \n",
    "    # Make sure the run exists\n",
    "    if(run < 720 or not os.path.isdir(run_dir)):\n",
    "        continue\n",
    "        \n",
    "    print(\"Computing statistics for run\",run)\n",
    "\n",
    "    # Read in all dataframes for this run\n",
    "    df_dict = read_dataframes_from_csv(run_dir)\n",
    "    \n",
    "    hd.plot_histograms_for_each_signal(df_dict, base_dir='plt', rnum=rnum, quantity='nPeaks', select_nonzero_peaks=False, logscale=False, nbins=20)\n",
    "    hd.plot_histograms_for_each_signal(df_dict, base_dir='plt', rnum=rnum, quantity='timeStamp', select_nonzero_peaks=False, logscale=False, nbins=40)\n",
    "    hd.plot_histograms_for_each_signal(df_dict, base_dir='plt', rnum=rnum, quantity='triggerTime', select_nonzero_peaks=False, logscale=False, nbins=40)\n",
    "    hd.plot_histograms_for_each_signal(df_dict, base_dir='plt', rnum=rnum, quantity='Pedestal', select_nonzero_peaks=False, logscale=True, nbins=60)\n",
    "    hd.plot_histograms_for_each_signal(df_dict, base_dir='plt', rnum=rnum, quantity='PedestalSigma', select_nonzero_peaks=False, logscale=True, nbins=60)\n",
    "    hd.plot_histograms_for_each_signal(df_dict, base_dir='plt', rnum=rnum, quantity='PeakVoltage', select_nonzero_peaks=True, logscale=False, nbins=60)\n",
    "    hd.plot_histograms_for_each_signal(df_dict, base_dir='plt', rnum=rnum, quantity='PeakTime', select_nonzero_peaks=True, logscale=False, nbins=40)\n",
    "    hd.plot_histograms_for_each_signal(df_dict, base_dir='plt', rnum=rnum, quantity='SignalTime', select_nonzero_peaks=True, logscale=False, nbins=60)\n",
    "    hd.plot_histograms_for_each_signal(df_dict, base_dir='plt', rnum=rnum, quantity='IntCharge', select_nonzero_peaks=True, logscale=False, nbins=60)"
   ]
  },
  {
   "cell_type": "markdown",
   "id": "cb15d4c6",
   "metadata": {},
   "source": [
    "## Compute and plot statistics for each run"
   ]
  },
  {
   "cell_type": "code",
   "execution_count": null,
   "id": "dfdc0b5e",
   "metadata": {},
   "outputs": [],
   "source": [
    "statistics_data = {}\n",
    "\n",
    "runs = np.arange(630,766)\n",
    "for run in runs:\n",
    "    run_dir = \"{}/run000{}\".format(ntuple_pd_dir, run)\n",
    "    \n",
    "    # Make sure the run exists\n",
    "    if(run < 720 or not os.path.isdir(run_dir)):\n",
    "        continue\n",
    "        \n",
    "    print(\"Computing statistics for run\",run)\n",
    "\n",
    "    # Read in all dataframes for this run\n",
    "    df_dict = hd.read_dataframes_from_csv(run_dir)\n",
    "    \n",
    "    # Compute statistics for this run and save them\n",
    "    statistics_data[run] = {}\n",
    "    for key in custom_order:\n",
    "        statistics_data[run][key] = hd.compute_statistics(df_dict[key])"
   ]
  },
  {
   "cell_type": "markdown",
   "id": "456d2455",
   "metadata": {},
   "source": [
    "#### Plot summary statistics from each run"
   ]
  },
  {
   "cell_type": "code",
   "execution_count": null,
   "id": "2ce525e3",
   "metadata": {},
   "outputs": [],
   "source": [
    "statistics_keys = ['avg_nPeaks', 'avg_Pedestal', 'avg_PedestalSigma', 'peak_PeakVoltage', 'peak_PeakTime', 'peak_SignalTime', 'peak_IntCharge']\n",
    "act_set = ['ACT0L', 'ACT0R', 'ACT1L', 'ACT1R', 'ACT3L', 'ACT3R', 'PbGlass']\n",
    "tof_set = ['TOF00', 'TOF01', 'TOF02', 'TOF03', 'TOF10', 'TOF11', 'TOF12', 'TOF13', 'TriggerScint']\n",
    "hd_set  = ['HD0', 'HD1', 'HD2', 'HD3', 'HD4', 'HD5', 'HD6', 'HD7', 'HD8', 'HD9', 'HD10', 'HD11', 'HD12', 'HD13', 'HD14']\n",
    "\n",
    "hd.plot_statistics_vs_run(statistics_data, statistics_keys, act_set, base_dir='plt', signal_set_name='ACT')\n",
    "hd.plot_statistics_vs_run(statistics_data, statistics_keys, tof_set, base_dir='plt', signal_set_name='TOF')\n",
    "hd.plot_statistics_vs_run(statistics_data, statistics_keys, hd_set, base_dir='plt', signal_set_name='HD')"
   ]
  },
  {
   "cell_type": "markdown",
   "id": "25e9096a",
   "metadata": {},
   "source": [
    "# Gamma peak analysis"
   ]
  },
  {
   "cell_type": "code",
   "execution_count": 3,
   "id": "4f766e01",
   "metadata": {},
   "outputs": [],
   "source": [
    "runs = [731, 732, 733, 734, 735, 736, 737, 738, 753, 754, 755, 756, 760, 763, 764, 765]\n",
    "rmomenta = [460, 500, 600, 700, 800, 900, 1000, 1200, 500, 600, 700, 800, 1000, 900, 1200, 800]"
   ]
  },
  {
   "cell_type": "code",
   "execution_count": 4,
   "id": "6aecb431",
   "metadata": {},
   "outputs": [],
   "source": [
    "# Timing and charge ranges for filters.\n",
    "pb_timing_range = (45, 75)\n",
    "tof0_timing_range = (45, 85)\n",
    "tof0_charge_range = (0.3, 1.0)\n",
    "tof1_timing_range = (60, 100)\n",
    "tof1_charge_range = (0.3, 1.0)\n",
    "t2_timing_range = (160, 180)\n",
    "t2_charge_range = (0.01, 0.0225)\n",
    "act0_timing_range = (130, 175)\n",
    "act0_charge_range = (0.1, 1.0)\n",
    "act1_timing_range = (130, 175)\n",
    "act1_charge_range = (0.02, 0.2)\n",
    "act3_timing_range = (150, 190)\n",
    "hd_timing_ranges = {\n",
    "    'HD0': (35, 75),\n",
    "    'HD1': (35, 75),\n",
    "    'HD2': (35, 75),\n",
    "    'HD3': (35, 75),\n",
    "    'HD4': (35, 75),\n",
    "    'HD5': (35, 75),\n",
    "    'HD6': (35, 75),\n",
    "    'HD7': (35, 75),\n",
    "    'HD8': (80, 120),\n",
    "    'HD9': (80, 120),\n",
    "    'HD10': (80, 120),\n",
    "    'HD11': (80, 120),\n",
    "    'HD12': (80, 120),\n",
    "    'HD13': (80, 120),\n",
    "    'HD14': (80, 120)\n",
    "}\n",
    "hd_charge_ranges = {\n",
    "    'HD0': (0.12, 0.3),\n",
    "    'HD1': (0.09, 0.2),\n",
    "    'HD2': (0.06, 0.15),\n",
    "    'HD3': (0.075, 0.2),\n",
    "    'HD4': (0.075, 0.2),\n",
    "    'HD5': (0.1, 0.3),\n",
    "    'HD6': (0.1, 0.3),\n",
    "    'HD7': (0.1, 0.3),\n",
    "    'HD8': (0.085, 0.285),\n",
    "    'HD9': (0.085, 0.285),\n",
    "    'HD10': (0.1, 0.3),\n",
    "    'HD11': (0.075, 0.275),\n",
    "    'HD12': (0.1, 0.3),\n",
    "    'HD13': (0.1, 0.4),\n",
    "    'HD14': (0.1, 0.4)    \n",
    "}"
   ]
  },
  {
   "cell_type": "code",
   "execution_count": 5,
   "id": "fef478a7",
   "metadata": {},
   "outputs": [
    {
     "name": "stdout",
     "output_type": "stream",
     "text": [
      "Processing run 731 ...\n"
     ]
    },
    {
     "name": "stderr",
     "output_type": "stream",
     "text": [
      "/Users/jrenner/local/miniforge3/lib/python3.9/site-packages/pandas/core/indexing.py:1667: SettingWithCopyWarning: \n",
      "A value is trying to be set on a copy of a slice from a DataFrame.\n",
      "Try using .loc[row_indexer,col_indexer] = value instead\n",
      "\n",
      "See the caveats in the documentation: https://pandas.pydata.org/pandas-docs/stable/user_guide/indexing.html#returning-a-view-versus-a-copy\n",
      "  self.obj[key] = value\n"
     ]
    },
    {
     "name": "stdout",
     "output_type": "stream",
     "text": [
      "Processing run 732 ...\n"
     ]
    },
    {
     "name": "stderr",
     "output_type": "stream",
     "text": [
      "/Users/jrenner/local/miniforge3/lib/python3.9/site-packages/pandas/core/indexing.py:1667: SettingWithCopyWarning: \n",
      "A value is trying to be set on a copy of a slice from a DataFrame.\n",
      "Try using .loc[row_indexer,col_indexer] = value instead\n",
      "\n",
      "See the caveats in the documentation: https://pandas.pydata.org/pandas-docs/stable/user_guide/indexing.html#returning-a-view-versus-a-copy\n",
      "  self.obj[key] = value\n",
      "/Users/jrenner/local/jerenner/T9BeamTestAna/python/new_analysis/hodoscope/hodoscope_functions.py:643: RuntimeWarning: invalid value encountered in sqrt\n",
      "  lg_sigmas = (fit_sigmas_MeV**2 - (momentum_sigmas*1000)**2)**0.5\n"
     ]
    },
    {
     "name": "stdout",
     "output_type": "stream",
     "text": [
      "Processing run 733 ...\n"
     ]
    },
    {
     "name": "stderr",
     "output_type": "stream",
     "text": [
      "/Users/jrenner/local/miniforge3/lib/python3.9/site-packages/pandas/core/indexing.py:1667: SettingWithCopyWarning: \n",
      "A value is trying to be set on a copy of a slice from a DataFrame.\n",
      "Try using .loc[row_indexer,col_indexer] = value instead\n",
      "\n",
      "See the caveats in the documentation: https://pandas.pydata.org/pandas-docs/stable/user_guide/indexing.html#returning-a-view-versus-a-copy\n",
      "  self.obj[key] = value\n",
      "/Users/jrenner/local/jerenner/T9BeamTestAna/python/new_analysis/hodoscope/hodoscope_functions.py:643: RuntimeWarning: invalid value encountered in sqrt\n",
      "  lg_sigmas = (fit_sigmas_MeV**2 - (momentum_sigmas*1000)**2)**0.5\n"
     ]
    },
    {
     "name": "stdout",
     "output_type": "stream",
     "text": [
      "Processing run 734 ...\n"
     ]
    },
    {
     "name": "stderr",
     "output_type": "stream",
     "text": [
      "/Users/jrenner/local/miniforge3/lib/python3.9/site-packages/pandas/core/indexing.py:1667: SettingWithCopyWarning: \n",
      "A value is trying to be set on a copy of a slice from a DataFrame.\n",
      "Try using .loc[row_indexer,col_indexer] = value instead\n",
      "\n",
      "See the caveats in the documentation: https://pandas.pydata.org/pandas-docs/stable/user_guide/indexing.html#returning-a-view-versus-a-copy\n",
      "  self.obj[key] = value\n"
     ]
    },
    {
     "name": "stdout",
     "output_type": "stream",
     "text": [
      "Processing run 735 ...\n"
     ]
    },
    {
     "name": "stderr",
     "output_type": "stream",
     "text": [
      "/Users/jrenner/local/miniforge3/lib/python3.9/site-packages/pandas/core/indexing.py:1667: SettingWithCopyWarning: \n",
      "A value is trying to be set on a copy of a slice from a DataFrame.\n",
      "Try using .loc[row_indexer,col_indexer] = value instead\n",
      "\n",
      "See the caveats in the documentation: https://pandas.pydata.org/pandas-docs/stable/user_guide/indexing.html#returning-a-view-versus-a-copy\n",
      "  self.obj[key] = value\n"
     ]
    },
    {
     "name": "stdout",
     "output_type": "stream",
     "text": [
      "Processing run 736 ...\n"
     ]
    },
    {
     "name": "stderr",
     "output_type": "stream",
     "text": [
      "/Users/jrenner/local/miniforge3/lib/python3.9/site-packages/pandas/core/indexing.py:1667: SettingWithCopyWarning: \n",
      "A value is trying to be set on a copy of a slice from a DataFrame.\n",
      "Try using .loc[row_indexer,col_indexer] = value instead\n",
      "\n",
      "See the caveats in the documentation: https://pandas.pydata.org/pandas-docs/stable/user_guide/indexing.html#returning-a-view-versus-a-copy\n",
      "  self.obj[key] = value\n"
     ]
    },
    {
     "name": "stdout",
     "output_type": "stream",
     "text": [
      "Processing run 737 ...\n"
     ]
    },
    {
     "name": "stderr",
     "output_type": "stream",
     "text": [
      "/Users/jrenner/local/miniforge3/lib/python3.9/site-packages/pandas/core/indexing.py:1667: SettingWithCopyWarning: \n",
      "A value is trying to be set on a copy of a slice from a DataFrame.\n",
      "Try using .loc[row_indexer,col_indexer] = value instead\n",
      "\n",
      "See the caveats in the documentation: https://pandas.pydata.org/pandas-docs/stable/user_guide/indexing.html#returning-a-view-versus-a-copy\n",
      "  self.obj[key] = value\n"
     ]
    },
    {
     "name": "stdout",
     "output_type": "stream",
     "text": [
      "Processing run 738 ...\n"
     ]
    },
    {
     "name": "stderr",
     "output_type": "stream",
     "text": [
      "/Users/jrenner/local/miniforge3/lib/python3.9/site-packages/pandas/core/indexing.py:1667: SettingWithCopyWarning: \n",
      "A value is trying to be set on a copy of a slice from a DataFrame.\n",
      "Try using .loc[row_indexer,col_indexer] = value instead\n",
      "\n",
      "See the caveats in the documentation: https://pandas.pydata.org/pandas-docs/stable/user_guide/indexing.html#returning-a-view-versus-a-copy\n",
      "  self.obj[key] = value\n"
     ]
    },
    {
     "name": "stdout",
     "output_type": "stream",
     "text": [
      "Processing run 753 ...\n"
     ]
    },
    {
     "name": "stderr",
     "output_type": "stream",
     "text": [
      "/Users/jrenner/local/miniforge3/lib/python3.9/site-packages/pandas/core/indexing.py:1667: SettingWithCopyWarning: \n",
      "A value is trying to be set on a copy of a slice from a DataFrame.\n",
      "Try using .loc[row_indexer,col_indexer] = value instead\n",
      "\n",
      "See the caveats in the documentation: https://pandas.pydata.org/pandas-docs/stable/user_guide/indexing.html#returning-a-view-versus-a-copy\n",
      "  self.obj[key] = value\n"
     ]
    },
    {
     "name": "stdout",
     "output_type": "stream",
     "text": [
      "Processing run 754 ...\n"
     ]
    },
    {
     "name": "stderr",
     "output_type": "stream",
     "text": [
      "/Users/jrenner/local/miniforge3/lib/python3.9/site-packages/pandas/core/indexing.py:1667: SettingWithCopyWarning: \n",
      "A value is trying to be set on a copy of a slice from a DataFrame.\n",
      "Try using .loc[row_indexer,col_indexer] = value instead\n",
      "\n",
      "See the caveats in the documentation: https://pandas.pydata.org/pandas-docs/stable/user_guide/indexing.html#returning-a-view-versus-a-copy\n",
      "  self.obj[key] = value\n",
      "/Users/jrenner/local/jerenner/T9BeamTestAna/python/new_analysis/hodoscope/hodoscope_functions.py:643: RuntimeWarning: invalid value encountered in sqrt\n",
      "  lg_sigmas = (fit_sigmas_MeV**2 - (momentum_sigmas*1000)**2)**0.5\n"
     ]
    },
    {
     "name": "stdout",
     "output_type": "stream",
     "text": [
      "Processing run 755 ...\n"
     ]
    },
    {
     "name": "stderr",
     "output_type": "stream",
     "text": [
      "/Users/jrenner/local/miniforge3/lib/python3.9/site-packages/pandas/core/indexing.py:1667: SettingWithCopyWarning: \n",
      "A value is trying to be set on a copy of a slice from a DataFrame.\n",
      "Try using .loc[row_indexer,col_indexer] = value instead\n",
      "\n",
      "See the caveats in the documentation: https://pandas.pydata.org/pandas-docs/stable/user_guide/indexing.html#returning-a-view-versus-a-copy\n",
      "  self.obj[key] = value\n"
     ]
    },
    {
     "name": "stdout",
     "output_type": "stream",
     "text": [
      "Processing run 756 ...\n"
     ]
    },
    {
     "name": "stderr",
     "output_type": "stream",
     "text": [
      "/Users/jrenner/local/miniforge3/lib/python3.9/site-packages/pandas/core/indexing.py:1667: SettingWithCopyWarning: \n",
      "A value is trying to be set on a copy of a slice from a DataFrame.\n",
      "Try using .loc[row_indexer,col_indexer] = value instead\n",
      "\n",
      "See the caveats in the documentation: https://pandas.pydata.org/pandas-docs/stable/user_guide/indexing.html#returning-a-view-versus-a-copy\n",
      "  self.obj[key] = value\n"
     ]
    },
    {
     "name": "stdout",
     "output_type": "stream",
     "text": [
      "Processing run 760 ...\n"
     ]
    },
    {
     "name": "stderr",
     "output_type": "stream",
     "text": [
      "/Users/jrenner/local/miniforge3/lib/python3.9/site-packages/pandas/core/indexing.py:1667: SettingWithCopyWarning: \n",
      "A value is trying to be set on a copy of a slice from a DataFrame.\n",
      "Try using .loc[row_indexer,col_indexer] = value instead\n",
      "\n",
      "See the caveats in the documentation: https://pandas.pydata.org/pandas-docs/stable/user_guide/indexing.html#returning-a-view-versus-a-copy\n",
      "  self.obj[key] = value\n"
     ]
    },
    {
     "name": "stdout",
     "output_type": "stream",
     "text": [
      "Processing run 763 ...\n"
     ]
    },
    {
     "name": "stderr",
     "output_type": "stream",
     "text": [
      "/Users/jrenner/local/miniforge3/lib/python3.9/site-packages/pandas/core/indexing.py:1667: SettingWithCopyWarning: \n",
      "A value is trying to be set on a copy of a slice from a DataFrame.\n",
      "Try using .loc[row_indexer,col_indexer] = value instead\n",
      "\n",
      "See the caveats in the documentation: https://pandas.pydata.org/pandas-docs/stable/user_guide/indexing.html#returning-a-view-versus-a-copy\n",
      "  self.obj[key] = value\n"
     ]
    },
    {
     "name": "stdout",
     "output_type": "stream",
     "text": [
      "Processing run 764 ...\n"
     ]
    },
    {
     "name": "stderr",
     "output_type": "stream",
     "text": [
      "/Users/jrenner/local/miniforge3/lib/python3.9/site-packages/pandas/core/indexing.py:1667: SettingWithCopyWarning: \n",
      "A value is trying to be set on a copy of a slice from a DataFrame.\n",
      "Try using .loc[row_indexer,col_indexer] = value instead\n",
      "\n",
      "See the caveats in the documentation: https://pandas.pydata.org/pandas-docs/stable/user_guide/indexing.html#returning-a-view-versus-a-copy\n",
      "  self.obj[key] = value\n"
     ]
    },
    {
     "name": "stdout",
     "output_type": "stream",
     "text": [
      "Processing run 765 ...\n"
     ]
    },
    {
     "name": "stderr",
     "output_type": "stream",
     "text": [
      "/Users/jrenner/local/miniforge3/lib/python3.9/site-packages/pandas/core/indexing.py:1667: SettingWithCopyWarning: \n",
      "A value is trying to be set on a copy of a slice from a DataFrame.\n",
      "Try using .loc[row_indexer,col_indexer] = value instead\n",
      "\n",
      "See the caveats in the documentation: https://pandas.pydata.org/pandas-docs/stable/user_guide/indexing.html#returning-a-view-versus-a-copy\n",
      "  self.obj[key] = value\n"
     ]
    }
   ],
   "source": [
    "mvals, merr = [], []\n",
    "bvals, berr = [], []\n",
    "for rnum, pbeam in zip(runs, rmomenta):\n",
    "    \n",
    "    print(\"Processing run\",rnum,\"...\")\n",
    "    df_dict = hd.read_dataframes_from_csv(\"/Users/jrenner/temp/hk/beamtest/ntuple_dataframes/run000{}\".format(rnum))\n",
    "    final_df = hd.timing_analysis(df_dict, pb_timing_range, tof0_timing_range, tof0_charge_range, \n",
    "                    tof1_timing_range, tof1_charge_range, t2_timing_range, t2_charge_range,\n",
    "                    act0_timing_range, act0_charge_range, act1_timing_range, act1_charge_range,\n",
    "                    act3_timing_range, hd_timing_ranges, hd_charge_ranges)\n",
    "    \n",
    "    mconv, mconv_err, bconv, bconv_err = hd.gamma_peak_plot(final_df, rnum, pbeam, base_dir='plt/gamma_peaks', nbins=80, range=[0,0.8])\n",
    "    mvals.append(mconv)\n",
    "    merr.append(mconv_err)\n",
    "    bvals.append(bconv)\n",
    "    berr.append(bconv_err)\n",
    "mvals = np.array(mvals)\n",
    "merr = np.array(merr)\n",
    "bvals = np.array(bvals)\n",
    "berr = np.array(berr)"
   ]
  },
  {
   "cell_type": "code",
   "execution_count": 6,
   "id": "f78eb8ad",
   "metadata": {
    "scrolled": true
   },
   "outputs": [
    {
     "data": {
      "image/png": "[encoded data removed]",
      "text/plain": [
       "<Figure size 1296x432 with 2 Axes>"
      ]
     },
     "metadata": {
      "needs_background": "light"
     },
     "output_type": "display_data"
    }
   ],
   "source": [
    "# Plot the slope and intercept of the calibration curve vs. momentum\n",
    "fig, axes = plt.subplots(1, 2, figsize=(18, 6))\n",
    "flat_axes = axes.ravel()\n",
    "\n",
    "flat_axes[0].errorbar(rmomenta,mvals*10000,yerr=merr*10000,fmt='o')\n",
    "flat_axes[0].set_xlabel('Beam momentum (MeV/c)',fontsize=20)\n",
    "flat_axes[0].set_ylabel('Slope $x 10^{-4}$ (LG charge)/MeV',fontsize=20)\n",
    "flat_axes[0].tick_params(axis=\"x\", labelsize=14)\n",
    "flat_axes[0].tick_params(axis=\"y\", labelsize=14)\n",
    "\n",
    "flat_axes[1].errorbar(rmomenta,bvals,yerr=berr,fmt='o')\n",
    "flat_axes[1].set_xlabel('Beam momentum (MeV/c)',fontsize=20)\n",
    "flat_axes[1].set_ylabel('Intercept (LG charge)',fontsize=20)\n",
    "flat_axes[1].tick_params(axis=\"x\", labelsize=14)\n",
    "flat_axes[1].tick_params(axis=\"y\", labelsize=14)"
   ]
  },
  {
   "cell_type": "markdown",
   "id": "9ebcf1d8",
   "metadata": {},
   "source": [
    "#### Single-run analysis"
   ]
  },
  {
   "cell_type": "code",
   "execution_count": null,
   "id": "a82df004",
   "metadata": {},
   "outputs": [],
   "source": [
    "# Read in all dataframes from a given run\n",
    "rnum = 787\n",
    "pbeam = 800\n",
    "df_dict = hd.read_dataframes_from_csv(\"/Users/jrenner/temp/hk/beamtest/ntuple_dataframes/run000{}\".format(rnum))\n",
    "df_dict.keys()\n",
    "\n",
    "final_df = hd.timing_analysis(df_dict, pb_timing_range, tof0_timing_range, tof0_charge_range, \n",
    "                    tof1_timing_range, tof1_charge_range, t2_timing_range, t2_charge_range,\n",
    "                    act0_timing_range, act0_charge_range, act1_timing_range, act1_charge_range,\n",
    "                    act3_timing_range, hd_timing_ranges, hd_charge_ranges, low_radiation=True, debug=True)"
   ]
  },
  {
   "cell_type": "code",
   "execution_count": null,
   "id": "89acf52c",
   "metadata": {
    "scrolled": false
   },
   "outputs": [],
   "source": [
    "mconv, mconv_err, bconv, bconv_err = hd.gamma_peak_plot(final_df, rnum, pbeam, base_dir='plt/gamma_peaks', nbins=80, range=[0,0.8], timing_cuts=True, low_radiation=True)"
   ]
  },
  {
   "cell_type": "code",
   "execution_count": null,
   "id": "eee482ca",
   "metadata": {},
   "outputs": [],
   "source": [
    "# cuts = (final_df.total_hits == 1) & (final_df.hit_ACT0 == 1) & \\\n",
    "#                         (final_df.hit_ACT1 == 1) & (final_df.nohit_ACT3 == 1) & \\\n",
    "#                         (final_df.hit_TOF0 == 1) & (final_df.hit_TOF1 == 1) & (final_df.hit_T2 == 1)\n",
    "cuts = (final_df.total_hits == 1) & \\\n",
    "    (final_df.hit_ACT1 == 1) & (final_df.nohit_ACT3 == 1) & \\\n",
    "    (final_df.hit_TOF0 == 1) & (final_df.hit_T2 == 1)\n",
    "normed = True\n",
    "\n",
    "fig = plt.figure(figsize=(14,7))\n",
    "h0 = plt.hist(final_df[(final_df.hit_HD14 == 1) & (final_df.total_hits == 1)]['IntCharge'],bins=80,label=\"HD14, no timing cuts\",range=[0,0.5],density=normed)\n",
    "h1 = plt.hist(final_df[(final_df.hit_HD14 == 1) & cuts]['IntCharge'],bins=80,label=\"HD14, timing cuts\",range=[0,0.5],density=normed)\n",
    "plt.xlabel(\"Lead glass charge\",fontsize=14)\n",
    "plt.ylabel(\"Counts/bin\",fontsize=14)\n",
    "plt.title(\"RUN 000787, p = + 0.8 GeV/c\",fontsize=20)\n",
    "plt.legend()"
   ]
  },
  {
   "cell_type": "code",
   "execution_count": null,
   "id": "1dbe60d0",
   "metadata": {},
   "outputs": [],
   "source": [
    "cuts_all = (final_df.total_hits == 1) \n",
    "cuts_ACT0 = cuts_all #& (final_df.hit_ACT0 == 1)\n",
    "cuts_ACT1 = cuts_ACT0 & (final_df.hit_ACT1 == 1)\n",
    "cuts_ACT3 = cuts_ACT1 & (final_df.nohit_ACT3 == 1)\n",
    "\n",
    "fig = plt.figure(figsize=(14,7))\n",
    "plt.hist(final_df[(final_df.hit_HD14 == 1) & cuts_all]['IntCharge'],bins=40,label=\"HD14\")\n",
    "plt.hist(final_df[(final_df.hit_HD14 == 1) & cuts_ACT0]['IntCharge'],bins=40,label=\"HD14+ACT0\")\n",
    "plt.hist(final_df[(final_df.hit_HD14 == 1) & cuts_ACT1]['IntCharge'],bins=40,label=\"HD14+ACT0/1\")\n",
    "plt.hist(final_df[(final_df.hit_HD14 == 1) & cuts_ACT3]['IntCharge'],bins=40,label=\"HD14+ACT0/1/3\")\n",
    "\n",
    "plt.xlabel(\"Lead glass charge\",fontsize=14)\n",
    "plt.ylabel(\"Counts/bin\",fontsize=14)\n",
    "plt.title(\"RUN 000734, p = + 0.7 GeV/c\",fontsize=20)\n",
    "plt.legend()"
   ]
  },
  {
   "cell_type": "code",
   "execution_count": null,
   "id": "9f3793f5",
   "metadata": {},
   "outputs": [],
   "source": [
    "cuts_all = (final_df.total_hits == 1) \n",
    "cuts_ACT0 = cuts_all #& (final_df.hit_ACT0 == 1)\n",
    "cuts_ACT1 = cuts_ACT0 & (final_df.hit_ACT1 == 1)\n",
    "cuts_ACT3 = cuts_ACT1 & (final_df.nohit_ACT3 == 1)\n",
    "\n",
    "fig = plt.figure(figsize=(14,7))\n",
    "plt.hist(final_df[(final_df.hit_HD14 == 1) & cuts_all]['IntCharge'],bins=40,label=\"HD14\")\n",
    "plt.hist(final_df[(final_df.hit_HD14 == 1) & cuts_ACT0]['IntCharge'],bins=40,label=\"HD14+ACT0\")\n",
    "plt.hist(final_df[(final_df.hit_HD14 == 1) & cuts_ACT1]['IntCharge'],bins=40,label=\"HD14+ACT0/1\")\n",
    "plt.hist(final_df[(final_df.hit_HD14 == 1) & cuts_ACT3]['IntCharge'],bins=40,label=\"HD14+ACT0/1/3\")\n",
    "\n",
    "plt.xlabel(\"Lead glass charge\",fontsize=14)\n",
    "plt.ylabel(\"Counts/bin\",fontsize=14)\n",
    "plt.title(\"RUN 000734, p = + 0.7 GeV/c\",fontsize=20)\n",
    "plt.legend()"
   ]
  },
  {
   "cell_type": "code",
   "execution_count": null,
   "id": "0721b95a",
   "metadata": {},
   "outputs": [],
   "source": [
    "cuts_all = (final_df.total_hits == 1) \n",
    "cuts_TOF0 = cuts_all & (final_df.hit_TOF0 == 1)\n",
    "cuts_TOF1 = cuts_TOF0 & (final_df.hit_TOF1 == 1)\n",
    "cuts_T2 = cuts_TOF1 & (final_df.hit_T2 == 1)\n",
    "\n",
    "fig = plt.figure(figsize=(14,7))\n",
    "plt.hist(final_df[(final_df.hit_HD14 == 1) & cuts_all]['IntCharge'],bins=40,label=\"HD14\")\n",
    "plt.hist(final_df[(final_df.hit_HD14 == 1) & cuts_TOF0]['IntCharge'],bins=40,label=\"HD14+TOF0\")\n",
    "plt.hist(final_df[(final_df.hit_HD14 == 1) & cuts_TOF1]['IntCharge'],bins=40,label=\"HD14+TOF0/1\")\n",
    "plt.hist(final_df[(final_df.hit_HD14 == 1) & cuts_T2]['IntCharge'],bins=40,label=\"HD14+TOF0/1/2\")\n",
    "\n",
    "plt.xlabel(\"Lead glass charge\",fontsize=14)\n",
    "plt.ylabel(\"Counts/bin\",fontsize=14)\n",
    "plt.title(\"RUN 000734, p = + 0.7 GeV/c\",fontsize=20)\n",
    "plt.legend()"
   ]
  },
  {
   "cell_type": "code",
   "execution_count": null,
   "id": "a14544ec",
   "metadata": {},
   "outputs": [],
   "source": [
    "#plt.hist(df_dict['ACT3L'][df_dict['ACT3L']['PeakTime'] > 10]['PeakTime'],bins=100)\n",
    "plt.hist(df_dict['ACT1L'][df_dict['ACT1L']['PeakTime'] > 10]['PeakTime'],bins=100)\n",
    "#plt.hist(act0_combined['combined_charge'],bins=100)"
   ]
  },
  {
   "cell_type": "code",
   "execution_count": null,
   "id": "f17a7e3d",
   "metadata": {},
   "outputs": [],
   "source": [
    "plt.hist(tof1_combined['combined_charge'],bins=100,range=[0,1])\n",
    "#plt.hist(df_dict['TOF00']['PeakTime'],bins=100,range=[35,90])\n",
    "#plt.hist(df_dict['TriggerScint']['IntCharge'],bins=100,range=[0,0.05])"
   ]
  },
  {
   "cell_type": "code",
   "execution_count": null,
   "id": "0ed19cec",
   "metadata": {},
   "outputs": [],
   "source": [
    "events = uproot.open(\"{}\".format(\"../ntuples/ntuple_000734.root\"))\n",
    "main_keys = events.keys()"
   ]
  },
  {
   "cell_type": "code",
   "execution_count": null,
   "id": "db566634",
   "metadata": {},
   "outputs": [],
   "source": [
    "dataframes"
   ]
  },
  {
   "cell_type": "markdown",
   "id": "97682066",
   "metadata": {},
   "source": [
    "## Single-peak analysis"
   ]
  },
  {
   "cell_type": "markdown",
   "id": "5735f8d3",
   "metadata": {},
   "source": [
    "### Runs 670 - 677: Trigger T0 and T2 Coincidence with Hodoscope OR Lead Glass - 1% Slit\n",
    "#### Please note that ntuples 672 (700 MeV), 674 (900 MeV), 675 (1 GeV) and 716 (700 MeV) cannot be produced with Nick script. This is something that may need to be considered."
   ]
  },
  {
   "cell_type": "code",
   "execution_count": null,
   "id": "df481e8b",
   "metadata": {},
   "outputs": [],
   "source": [
    "# Convert the ROOT file to a CSV\n",
    "run  = \"000734\"\n",
    "path = \"../ntuples/ntuple_\"\n",
    "df   = ntuple_to_pd(path + \"{}.root\".format(run))"
   ]
  },
  {
   "cell_type": "code",
   "execution_count": null,
   "id": "4175dd46",
   "metadata": {
    "scrolled": true
   },
   "outputs": [],
   "source": [
    "df.head(100)"
   ]
  },
  {
   "cell_type": "markdown",
   "id": "14455cf2",
   "metadata": {},
   "source": [
    "## Peak time analysis"
   ]
  },
  {
   "cell_type": "code",
   "execution_count": null,
   "id": "52c6d1e4",
   "metadata": {},
   "outputs": [],
   "source": [
    "# Create entries in dataframe for averages in peak times\n",
    "df['PeakTimeACT0'] = (df['PeakTime0'] + df['PeakTime1'])/2\n",
    "df['PeakTimeACT1'] = (df['PeakTime2'] + df['PeakTime3'])/2\n",
    "df['PeakTimeACT3'] = (df['PeakTime4'] + df['PeakTime5'])/2\n",
    "df['PeakVoltageACT3'] = (df['PeakVoltage4'] + df['PeakVoltage5'])/2\n",
    "df['PeakTimeTOF0'] = (df['PeakTime8'] + df['PeakTime9'] + df['PeakTime10'] + df['PeakTime11'])/4\n",
    "df['PeakTimeTOF1'] = (df['PeakTime12'] + df['PeakTime13'] + df['PeakTime14'] + df['PeakTime15'])/4"
   ]
  },
  {
   "cell_type": "code",
   "execution_count": null,
   "id": "1b5567a5",
   "metadata": {},
   "outputs": [],
   "source": [
    "rng_time = [0,200]\n",
    "nbins_time = 100\n",
    "\n",
    "fig = plt.figure(figsize=(18,7))\n",
    "\n",
    "h_ACT0R = plt.hist(df['PeakTime0'],bins=nbins_time,range=rng_time,label=\"ACT0-R\")\n",
    "h_ACT0L = plt.hist(df['PeakTime1'],bins=nbins_time,range=rng_time,label=\"ACT0-L\")\n",
    "h_ACT1L = plt.hist(df['PeakTime2'],bins=nbins_time,range=rng_time,label=\"ACT1-R\")\n",
    "h_ACT1R = plt.hist(df['PeakTime3'],bins=nbins_time,range=rng_time,label=\"ACT1-L\")\n",
    "h_ACT3L = plt.hist(df['PeakTime4'],bins=nbins_time,range=rng_time,label=\"ACT3-R\")\n",
    "h_ACT3R = plt.hist(df['PeakTime5'],bins=nbins_time,range=rng_time,label=\"ACT3-L\")\n",
    "\n",
    "h_trig = plt.hist(df['PeakTime6'],bins=nbins_time,range=rng_time,label=\"Trigger scintillator\")\n",
    "\n",
    "h_TOF00 = plt.hist(df['PeakTime8'],bins=nbins_time,range=rng_time,label='TOF0-0')\n",
    "h_TOF01 = plt.hist(df['PeakTime9'],bins=nbins_time,range=rng_time,label='TOF0-1')\n",
    "h_TOF02 = plt.hist(df['PeakTime10'],bins=nbins_time,range=rng_time,label='TOF0-2')\n",
    "h_TOF03 = plt.hist(df['PeakTime11'],bins=nbins_time,range=rng_time,label='TOF0-3')\n",
    "\n",
    "h_TOF10 = plt.hist(df['PeakTime12'],bins=nbins_time,range=rng_time,label='TOF1-0')\n",
    "h_TOF11 = plt.hist(df['PeakTime13'],bins=nbins_time,range=rng_time,label='TOF1-1')\n",
    "h_TOF12 = plt.hist(df['PeakTime14'],bins=nbins_time,range=rng_time,label='TOF1-2')\n",
    "h_TOF13 = plt.hist(df['PeakTime15'],bins=nbins_time,range=rng_time,label='TOF1-3')\n",
    "\n",
    "plt.tick_params(axis='both', which='major', labelsize=18)\n",
    "plt.ylabel(\"Counts/bin\",fontsize=18)\n",
    "plt.xlabel(\"Peak time (ns)\",fontsize=18)\n",
    "\n",
    "plt.legend(loc=2,fontsize=14)\n",
    "plt.savefig(\"peak_times.png\", bbox_inches='tight')"
   ]
  },
  {
   "cell_type": "code",
   "execution_count": null,
   "id": "107679e5",
   "metadata": {},
   "outputs": [],
   "source": [
    "rng_time = [0,200]\n",
    "nbins_time = 60\n",
    "alpha_time = 0.8\n",
    "\n",
    "fig = plt.figure(figsize=(18,7))\n",
    "\n",
    "h_ACT0 = plt.hist(df['PeakTimeACT0'],bins=nbins_time,range=rng_time,label=\"ACT0 avg\",alpha=alpha_time)\n",
    "h_ACT1 = plt.hist(df['PeakTimeACT1'],bins=nbins_time,range=rng_time,label=\"ACT1 avg\",alpha=alpha_time)\n",
    "h_ACT3 = plt.hist(df[df['PeakVoltageACT3'] > 0.5]['PeakTimeACT3'],bins=nbins_time,range=rng_time,label=\"ACT3 avg (V$_{peak}$ > 0.5)\",alpha=alpha_time)\n",
    "\n",
    "h_TOF0 = plt.hist(df['PeakTimeTOF0'],bins=nbins_time,range=rng_time,label='T0 avg',alpha=alpha_time)\n",
    "h_TOF1 = plt.hist(df['PeakTimeTOF1'],bins=nbins_time,range=rng_time,label='T1 avg',alpha=alpha_time)\n",
    "\n",
    "h_trig = plt.hist(df['PeakTime6'],bins=nbins_time,range=rng_time,label=\"T2 avg\",alpha=alpha_time)\n",
    "\n",
    "plt.tick_params(axis='both', which='major', labelsize=14)\n",
    "plt.ylabel(\"Counts/bin\",fontsize=18)\n",
    "plt.xlabel(\"Peak time (ns)\",fontsize=18)\n",
    "\n",
    "plt.legend(loc=2,fontsize=18)\n",
    "plt.savefig(\"peak_times_avg.png\", bbox_inches='tight')"
   ]
  },
  {
   "cell_type": "code",
   "execution_count": null,
   "id": "65a8dbfa",
   "metadata": {},
   "outputs": [],
   "source": [
    "fig, ax = plt.subplots(figsize=(6,4))\n",
    "h2_ACT3 = ax.hist2d(df['PeakTimeACT3'],df['PeakVoltageACT3'],bins=[30,30],norm=matplotlib.colors.LogNorm())\n",
    "fig.colorbar(h2_ACT3[3],ax=ax)\n",
    "plt.xlabel(\"ACT3 avg peak time (ns)\",fontsize=12)\n",
    "plt.ylabel(\"ACT3 avg peak voltage\",fontsize=12)\n",
    "plt.savefig(\"ACT3_voltage_vs_time.png\", bbox_inches='tight')"
   ]
  },
  {
   "cell_type": "markdown",
   "id": "bab1e1ab",
   "metadata": {},
   "source": [
    "## Hodoscope analysis\n",
    "#### These cuts allow us to see the individual peaks in the LGCharge plot below\n",
    "#### Please note these cuts are made just looking at the charge spectrum of the LG and the Hodoscope PMTs and cutting the tail, but perhaps this tail could be eliminated using cuts in the Aerogels (?)"
   ]
  },
  {
   "cell_type": "code",
   "execution_count": null,
   "id": "7220ddc2",
   "metadata": {},
   "outputs": [],
   "source": [
    "th_hd = 0.02\n",
    "cut_LG  = (df['IntCharge16'] > 0.05)\n",
    "\n",
    "cut_H0 =  df['IntCharge24'] > th_hd\n",
    "cut_H1 =  df['IntCharge25'] > th_hd\n",
    "cut_H2 =  df['IntCharge26'] > th_hd\n",
    "cut_H3 =  df['IntCharge27'] > th_hd\n",
    "cut_H4 =  df['IntCharge28'] > th_hd\n",
    "cut_H5 =  df['IntCharge29'] > th_hd\n",
    "cut_H6 =  df['IntCharge30'] > th_hd\n",
    "cut_H7 =  df['IntCharge31'] > th_hd\n",
    "cut_H8 =  df['IntCharge17'] > th_hd\n",
    "cut_H9 =  df['IntCharge18'] > th_hd\n",
    "cut_H10 = df['IntCharge19'] > th_hd\n",
    "cut_H11 = df['IntCharge20'] > th_hd\n",
    "cut_H12 = df['IntCharge21'] > th_hd\n",
    "cut_H13 = df['IntCharge22'] > th_hd\n",
    "cut_H14 = df['IntCharge23'] > th_hd\n",
    "\n",
    "LG_cal = 1. #120/3.\n",
    "#rng = [0, 500*3/120]\n",
    "rng = [0.0, 1.5]"
   ]
  },
  {
   "cell_type": "code",
   "execution_count": null,
   "id": "9a4e8a8c",
   "metadata": {
    "scrolled": false
   },
   "outputs": [],
   "source": [
    "fig, ax = plt.subplots(figsize=(12, 6.0))\n",
    "\n",
    "plt.hist(df[cut_H14 & cut_LG]['IntCharge16']*LG_cal, bins='auto', label=\"H14\", alpha=0.8, range=rng)\n",
    "plt.hist(df[cut_H13 & cut_LG]['IntCharge16']*LG_cal, bins='auto', label=\"H13\", alpha=0.8, range=rng)\n",
    "plt.hist(df[cut_H12 & cut_LG]['IntCharge16']*LG_cal, bins='auto', label=\"H12\", alpha=0.8, range=rng)\n",
    "plt.hist(df[cut_H11 & cut_LG]['IntCharge16']*LG_cal, bins='auto', label=\"H11\", alpha=0.8, range=rng)\n",
    "plt.hist(df[cut_H10 & cut_LG]['IntCharge16']*LG_cal, bins='auto', label=\"H10\", alpha=0.8, range=rng)\n",
    "plt.hist(df[cut_H9 & cut_LG]['IntCharge16']*LG_cal,  bins='auto', label=\"H9\",  alpha=0.8, range=rng)\n",
    "plt.hist(df[cut_H8 & cut_LG]['IntCharge16']*LG_cal,  bins='auto', label=\"H8\",  alpha=0.8, range=rng)\n",
    "plt.hist(df[cut_H7 & cut_LG]['IntCharge16']*LG_cal,  bins='auto', label=\"H7\",  alpha=0.8, range=rng)\n",
    "plt.hist(df[cut_H6 & cut_LG]['IntCharge16']*LG_cal,  bins='auto', label=\"H6\",  alpha=0.8, range=rng)\n",
    "plt.hist(df[cut_H5 & cut_LG]['IntCharge16']*LG_cal,  bins='auto', label=\"H5\",  alpha=0.8, range=rng)\n",
    "plt.hist(df[cut_H4 & cut_LG]['IntCharge16']*LG_cal,  bins='auto', label=\"H4\",  alpha=0.8, range=rng)\n",
    "plt.hist(df[cut_H3 & cut_LG]['IntCharge16']*LG_cal,  bins='auto', label=\"H3\",  alpha=0.8, range=rng)\n",
    "plt.hist(df[cut_H2 & cut_LG]['IntCharge16']*LG_cal,  bins='auto', label=\"H2\",  alpha=0.8, range=rng)\n",
    "plt.hist(df[cut_H1 & cut_LG]['IntCharge16']*LG_cal,  bins='auto', label=\"H1\",  alpha=0.8, range=rng)\n",
    "plt.hist(df[cut_H0 & cut_LG]['IntCharge16']*LG_cal,  bins='auto', label=\"H0\",  alpha=0.8, range=rng)\n",
    "  \n",
    " \n",
    "plt.legend()\n",
    "\n",
    "\n",
    "plt.xlabel(\"Lead Glass (charge)\",fontsize=20)\n",
    "plt.ylabel(\"Counts/bin\",fontsize=20)\n",
    "#plt.yscale('log')\n",
    "plt.title(\"Run {}, p = +1200 MeV/c\".format(run), fontsize=20);"
   ]
  },
  {
   "cell_type": "markdown",
   "id": "09856349",
   "metadata": {},
   "source": [
    "## Fitting the Lead Glass Charge Peaks (HodosCope Peaks)\n",
    "#### Just a regular gaussian fit using Scipy CurveFit"
   ]
  },
  {
   "cell_type": "code",
   "execution_count": null,
   "id": "95f9d2e5",
   "metadata": {},
   "outputs": [],
   "source": [
    "from scipy.stats import norm\n",
    "from scipy.optimize import curve_fit"
   ]
  },
  {
   "cell_type": "code",
   "execution_count": null,
   "id": "89fc5235",
   "metadata": {},
   "outputs": [],
   "source": [
    "data_H14 = df[cut_H14 & cut_LG]['IntCharge16']*LG_cal\n",
    "data_H13 = df[cut_H13 & cut_LG]['IntCharge16']*LG_cal\n",
    "data_H12 = df[cut_H12 & cut_LG]['IntCharge16']*LG_cal\n",
    "data_H11 = df[cut_H11 & cut_LG]['IntCharge16']*LG_cal\n",
    "data_H10 = df[cut_H10 & cut_LG]['IntCharge16']*LG_cal\n",
    "data_H9  = df[cut_H9  & cut_LG]['IntCharge16']*LG_cal\n",
    "data_H8  = df[cut_H8  & cut_LG]['IntCharge16']*LG_cal\n",
    "data_H7  = df[cut_H7  & cut_LG]['IntCharge16']*LG_cal\n",
    "data_H6  = df[cut_H6  & cut_LG]['IntCharge16']*LG_cal\n",
    "data_H5  = df[cut_H5  & cut_LG]['IntCharge16']*LG_cal\n",
    "data_H4  = df[cut_H4  & cut_LG]['IntCharge16']*LG_cal\n",
    "data_H3  = df[cut_H3  & cut_LG]['IntCharge16']*LG_cal\n",
    "data_H2  = df[cut_H2  & cut_LG]['IntCharge16']*LG_cal\n",
    "data_H1  = df[cut_H1  & cut_LG]['IntCharge16']*LG_cal\n",
    "data_H0  = df[cut_H0  & cut_LG]['IntCharge16']*LG_cal\n",
    "\n",
    "datas = [data_H0, data_H1, data_H2, data_H3, data_H4, \n",
    "         data_H5, data_H6, data_H7, data_H8, data_H9, \n",
    "         data_H10, data_H11, data_H12, data_H13, data_H14]\n",
    "\n",
    "labels = [\"H0\", \"H1\", \"H2\", \"H3\", \"H4\", \"H5\", \"H6\", \"H7\", \"H8\", \"H9\", \"H10\", \"H11\", \"H12\", \"H13\", \"H14\"]"
   ]
  },
  {
   "cell_type": "markdown",
   "id": "03ff2c62",
   "metadata": {},
   "source": [
    "### This is not automated, you need to chage some values as you change the run, such as h, h decreasing and the text positioning since the counts decrease with the beam momentum"
   ]
  },
  {
   "cell_type": "code",
   "execution_count": null,
   "id": "c6e2ac07",
   "metadata": {
    "scrolled": false
   },
   "outputs": [],
   "source": [
    "fig, ax = plt.subplots(figsize=(12, 6.0))\n",
    "h = 1400\n",
    "means = []\n",
    "\n",
    "for i,j in zip(datas, labels):    \n",
    "    data = i\n",
    "\n",
    "    hist, bin_edges = np.histogram(data, bins='auto') \n",
    "\n",
    "    bin_centers = (bin_edges[:-1] + bin_edges[1:]) / 2\n",
    "\n",
    "    def gaussian(x, amplitude, mean, stddev):\n",
    "        return amplitude * norm.pdf(x, loc=mean, scale=stddev)\n",
    "\n",
    "    # Parámetros iniciales para el ajuste (estimaciones iniciales)\n",
    "    initial_params = [1.0, 0.0, 1.0]\n",
    "\n",
    "    # Realiza el ajuste\n",
    "    popt, _ = curve_fit(gaussian, bin_centers, hist, p0=initial_params)\n",
    "\n",
    "    # Crea una curva con los parámetros ajustados\n",
    "    fit_curve = gaussian(bin_centers, *popt)\n",
    "\n",
    "    # Grafica el histograma y la curva ajustada\n",
    "    plt.hist(data, bins='auto', alpha=0.6, label=j);\n",
    "    plt.plot(bin_centers, fit_curve, 'r-', alpha=0.6)\n",
    "    plt.text(0.9, h, 'StdDev/Mean {}: {:.2f}'.format(j, popt[2]/popt[1]),fontsize=15)\n",
    "\n",
    "    plt.legend()\n",
    "    \n",
    "    plt.xlabel('Lead Glass (charge)',fontsize=20);\n",
    "    plt.ylabel('Counts/bin',fontsize=20);\n",
    "    plt.title(\"Run {}, p = +500 MeV/c\".format(run),fontsize=20);\n",
    "    \n",
    "    plt.xlim(0., 1.5)\n",
    "    \n",
    "    h -= 87\n",
    "    means.append(popt[1])\n",
    "\n",
    "    print('Valores del ajuste para {}:'.format(j))\n",
    "    print('Mean: {:.2f}'.format(popt[1]))\n",
    "    print('StdDev: {:.2f}'.format(popt[2]))\n",
    "    print(' ')"
   ]
  },
  {
   "cell_type": "markdown",
   "id": "2af078e0",
   "metadata": {},
   "source": [
    "# Try fitting just a determined range"
   ]
  },
  {
   "cell_type": "code",
   "execution_count": null,
   "id": "6072a62b",
   "metadata": {},
   "outputs": [],
   "source": [
    "#fig, ax = plt.subplots(figsize=(12, 6.0))\n",
    "#h = 500\n",
    "#\n",
    "#for i,j in zip(datas, labels):    \n",
    "#    data = i\n",
    "#\n",
    "#    hist, bin_edges = np.histogram(data, bins='auto') \n",
    "#\n",
    "#    bin_centers = (bin_edges[:-1] + bin_edges[1:]) / 2\n",
    "#\n",
    "#    def gaussian(x, amplitude, mean, stddev):\n",
    "#        return amplitude * norm.pdf(x, loc=mean, scale=stddev)\n",
    "#    \n",
    "#    # Limita los datos y el eje x hasta cierto valor máximo (por ejemplo, x = 6)\n",
    "#    max_x_value = 2.2\n",
    "#    mask = bin_centers <= max_x_value\n",
    "#    filtered_x = bin_centers[mask]\n",
    "#    filtered_hist = hist[mask]\n",
    "#\n",
    "#\n",
    "#    # Parámetros iniciales para el ajuste (estimaciones iniciales)\n",
    "#    initial_params = [1.0, 0.0, 1.0]\n",
    "#\n",
    "#    # Realiza el ajuste\n",
    "#    popt, _ = curve_fit(gaussian, filtered_x, filtered_hist, p0=initial_params)\n",
    "#\n",
    "#    # Crea una curva con los parámetros ajustados\n",
    "#    fit_curve = gaussian(filtered_x, *popt)\n",
    "#\n",
    "#    # Grafica el histograma y la curva ajustada\n",
    "#    plt.hist(data, bins='auto', alpha=0.6, label=j);\n",
    "#    plt.plot(filtered_x, fit_curve, 'r-', alpha=0.6)\n",
    "#    plt.text(2.15, h, 'StdDev {}: {:.2f}'.format(j, popt[2]),fontsize=15)\n",
    "#\n",
    "#    plt.legend()\n",
    "#    \n",
    "#    plt.xlabel('Counts/bin',fontsize=20);\n",
    "#    plt.ylabel('Lead Glass (charge)',fontsize=20);\n",
    "#    plt.title(\"Run {}, p = +800 MeV/c\".format(run),fontsize=20);\n",
    "#    \n",
    "#    plt.xlim(0.4, 3.2)\n",
    "#    \n",
    "#    h -= 27\n",
    "#\n",
    "#    #print('Valores del ajuste:')\n",
    "#    #print('Amplitude: {:.2f}'.format(popt[0]))\n",
    "#    #print('Mean: {:.2f}'.format(popt[1]))\n",
    "#    #print('StdDev: {:.2f}'.format(popt[2]))"
   ]
  },
  {
   "cell_type": "markdown",
   "id": "65703cc5",
   "metadata": {},
   "source": [
    "# 2D Plot Expected Tagged Photon Energy vs. Lead Glass Charge"
   ]
  },
  {
   "cell_type": "markdown",
   "id": "cdb04e99",
   "metadata": {},
   "source": [
    "#### hit_energy values are the \"expected gamma energy\", computed by Josh"
   ]
  },
  {
   "cell_type": "code",
   "execution_count": null,
   "id": "a9879ff1",
   "metadata": {},
   "outputs": [],
   "source": [
    "hit_energy = [0.1595155500109545, 0.16918666630815957, 0.17050944491673403, 0.18508668641801915,\n",
    "             0.1883263228952287, 0.20450156481839696, 0.21056117899451413, 0.22867222330704012,\n",
    "             0.23899202319688614, 0.25950074031219433, 0.27649806820124223, 0.30005667059694635,\n",
    "             0.32806001869009743, 0.3556345402074757, 0.40311754765565394]"
   ]
  },
  {
   "cell_type": "markdown",
   "id": "883412a5",
   "metadata": {},
   "source": [
    "#### IMPORTANT: Please note that you need to change the run momentum in this next cell"
   ]
  },
  {
   "cell_type": "code",
   "execution_count": null,
   "id": "d2ae542b",
   "metadata": {},
   "outputs": [],
   "source": [
    "run_momentum = 500\n",
    "\n",
    "actual_means = means[::-1]\n",
    "e_gamma_expected = [run_momentum - i*1000 for i in hit_energy[::-1]]"
   ]
  },
  {
   "cell_type": "code",
   "execution_count": null,
   "id": "953db7b2",
   "metadata": {},
   "outputs": [],
   "source": [
    "plt.scatter(actual_means, e_gamma_expected);\n",
    "\n",
    "plt.xlabel('Lead Glass Charge [Arbitrary Unit]');\n",
    "plt.ylabel('Tagged Photon Expected Momentum [MeV/c]');\n",
    "\n",
    "plt.title(\"Run {}, p = +500 MeV/c\".format(run),fontsize=20);"
   ]
  },
  {
   "cell_type": "markdown",
   "id": "ccc3fc43",
   "metadata": {},
   "source": [
    "# Aerogel Charged Particle Veto\n",
    "#### Akira suggested we could use Aerogel 3 as charged particle veto ensuring only non-charged particles pass through it. Aerogels 0 & 1 can be used as veto in the opposite way. These could make us get rid of the tails that appear as beam momentum increases (see peak plots for 1200 MeV)"
   ]
  },
  {
   "cell_type": "code",
   "execution_count": null,
   "id": "8b9a1c61",
   "metadata": {
    "scrolled": false
   },
   "outputs": [],
   "source": [
    "plt.hist(df['IntCharge4'], bins=40, alpha=0.7);\n",
    "plt.hist(df['IntCharge5'], bins=40, alpha=0.7);\n",
    "\n",
    "plt.yscale('log');\n",
    "\n",
    "plt.xlabel('Aerogel 3R & 3L Charge [Arbitrary Unit]');\n",
    "plt.ylabel('Counts/bins');"
   ]
  },
  {
   "cell_type": "code",
   "execution_count": null,
   "id": "d7194cb3",
   "metadata": {},
   "outputs": [],
   "source": [
    "fig = plt.figure(figsize=(18,7))\n",
    "\n",
    "ax1 = fig.add_subplot(121)\n",
    "ax1.hist(df['IntCharge0'], bins=40, alpha=0.7, label='AG0R');\n",
    "ax1.hist(df['IntCharge1'], bins=40, alpha=0.7, label='AG0L');\n",
    "\n",
    "ax1.set_yscale('log');\n",
    "\n",
    "ax1.set_xlabel('Aerogel 0R & 0L Charge [Arbitrary Unit]');\n",
    "ax1.set_ylabel('Counts/bins');\n",
    "plt.legend();\n",
    "\n",
    "ax2 = fig.add_subplot(122)\n",
    "ax2.hist(df['IntCharge2'], bins=40, alpha=0.7, label='AG1R');\n",
    "ax2.hist(df['IntCharge3'], bins=40, alpha=0.7, label='AG1L');\n",
    "\n",
    "ax2.set_yscale('log');\n",
    "\n",
    "ax2.set_xlabel('Aerogel 1R & 1L Charge [Arbitrary Unit]');\n",
    "ax2.set_ylabel('Counts/bins');\n",
    "plt.legend();"
   ]
  },
  {
   "cell_type": "markdown",
   "id": "aa2715a4",
   "metadata": {},
   "source": [
    "#### Actual cuts for the aerogels. Many thresholds were tested and it seems like we cannot get rid of the tails using Aerogels."
   ]
  },
  {
   "cell_type": "code",
   "execution_count": null,
   "id": "67acf09d",
   "metadata": {},
   "outputs": [],
   "source": [
    "ag01_th = 0.0\n",
    "ag3_th  = 0.1\n",
    "\n",
    "cut_AG0R = df['IntCharge0'] > ag01_th\n",
    "cut_AG0L = df['IntCharge1'] > ag01_th\n",
    "cut_AG1R = df['IntCharge2'] > ag01_th\n",
    "cut_AG1L = df['IntCharge3'] > ag01_th\n",
    "cut_AG3R = df['IntCharge4'] < ag3_th\n",
    "cut_AG3L = df['IntCharge5'] < ag3_th\n",
    "\n",
    "cut_AG = cut_AG0R & cut_AG0L & cut_AG1R & cut_AG1L & cut_AG3R & cut_AG3L"
   ]
  },
  {
   "cell_type": "code",
   "execution_count": null,
   "id": "da82a6ef",
   "metadata": {},
   "outputs": [],
   "source": [
    "fig, ax = plt.subplots(figsize=(12, 6.0))\n",
    "\n",
    "plt.hist(df[cut_H14 & cut_LG & cut_AG]['IntCharge16']*LG_cal, bins='auto', label=\"H14\", alpha=0.8, range=rng)\n",
    "plt.hist(df[cut_H13 & cut_LG & cut_AG]['IntCharge16']*LG_cal, bins='auto', label=\"H13\", alpha=0.8, range=rng)\n",
    "plt.hist(df[cut_H12 & cut_LG & cut_AG]['IntCharge16']*LG_cal, bins='auto', label=\"H12\", alpha=0.8, range=rng)\n",
    "plt.hist(df[cut_H11 & cut_LG & cut_AG]['IntCharge16']*LG_cal, bins='auto', label=\"H11\", alpha=0.8, range=rng)\n",
    "plt.hist(df[cut_H10 & cut_LG & cut_AG]['IntCharge16']*LG_cal, bins='auto', label=\"H10\", alpha=0.8, range=rng)\n",
    "plt.hist(df[cut_H9  & cut_LG & cut_AG]['IntCharge16']*LG_cal,  bins='auto', label=\"H9\",  alpha=0.8, range=rng)\n",
    "plt.hist(df[cut_H8  & cut_LG & cut_AG]['IntCharge16']*LG_cal,  bins='auto', label=\"H8\",  alpha=0.8, range=rng)\n",
    "plt.hist(df[cut_H7  & cut_LG & cut_AG]['IntCharge16']*LG_cal,  bins='auto', label=\"H7\",  alpha=0.8, range=rng)\n",
    "plt.hist(df[cut_H6  & cut_LG & cut_AG]['IntCharge16']*LG_cal,  bins='auto', label=\"H6\",  alpha=0.8, range=rng)\n",
    "plt.hist(df[cut_H5  & cut_LG & cut_AG]['IntCharge16']*LG_cal,  bins='auto', label=\"H5\",  alpha=0.8, range=rng)\n",
    "plt.hist(df[cut_H4  & cut_LG & cut_AG]['IntCharge16']*LG_cal,  bins='auto', label=\"H4\",  alpha=0.8, range=rng)\n",
    "plt.hist(df[cut_H3  & cut_LG & cut_AG]['IntCharge16']*LG_cal,  bins='auto', label=\"H3\",  alpha=0.8, range=rng)\n",
    "plt.hist(df[cut_H2  & cut_LG & cut_AG]['IntCharge16']*LG_cal,  bins='auto', label=\"H2\",  alpha=0.8, range=rng)\n",
    "plt.hist(df[cut_H1  & cut_LG & cut_AG]['IntCharge16']*LG_cal,  bins='auto', label=\"H1\",  alpha=0.8, range=rng)\n",
    "plt.hist(df[cut_H0  & cut_LG & cut_AG]['IntCharge16']*LG_cal,  bins='auto', label=\"H0\",  alpha=0.8, range=rng)\n",
    "\n",
    " \n",
    "plt.legend()\n",
    "\n",
    "\n",
    "plt.xlabel(\"Lead Glass (charge)\",fontsize=20)\n",
    "plt.ylabel(\"Counts/bin\",fontsize=20)\n",
    "#plt.yscale('log')\n",
    "plt.title(\"Run {}, p = +1200 MeV/c\".format(run), fontsize=20);"
   ]
  },
  {
   "cell_type": "code",
   "execution_count": null,
   "id": "e28cfe34",
   "metadata": {},
   "outputs": [],
   "source": []
  }
 ],
 "metadata": {
  "kernelspec": {
   "display_name": "Python 3 (ipykernel)",
   "language": "python",
   "name": "python3"
  },
  "language_info": {
   "codemirror_mode": {
    "name": "ipython",
    "version": 3
   },
   "file_extension": ".py",
   "mimetype": "text/x-python",
   "name": "python",
   "nbconvert_exporter": "python",
   "pygments_lexer": "ipython3",
   "version": "3.9.6"
  }
 },
 "nbformat": 4,
 "nbformat_minor": 5
}
