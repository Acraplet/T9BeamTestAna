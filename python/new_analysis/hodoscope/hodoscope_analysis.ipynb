{
 "cells": [
  {
   "cell_type": "markdown",
   "id": "21901544",
   "metadata": {},
   "source": [
    "# Test beam analysis"
   ]
  },
  {
   "cell_type": "markdown",
   "id": "24bff50c",
   "metadata": {},
   "source": [
    "### Necessary Imports"
   ]
  },
  {
   "cell_type": "code",
   "execution_count": 1,
   "id": "17abc9d7",
   "metadata": {},
   "outputs": [],
   "source": [
    "import os\n",
    "import uproot\n",
    "import math\n",
    "import pandas as pd\n",
    "import numpy as np\n",
    "import matplotlib\n",
    "import matplotlib.pyplot as plt\n",
    "import seaborn as sns\n",
    "\n",
    "import hodoscope_functions as hd\n",
    "\n",
    "from matplotlib.lines import Line2D\n",
    "from scipy.optimize import curve_fit\n",
    "from scipy.stats import norm, moyal\n",
    "from scipy.signal import find_peaks\n",
    "\n",
    "#pd.options.display.max_columns = 500\n",
    "#pd.options.display.max_rows = 100000"
   ]
  },
  {
   "cell_type": "markdown",
   "id": "76961037",
   "metadata": {},
   "source": [
    "# Gamma peak analysis"
   ]
  },
  {
   "cell_type": "code",
   "execution_count": 2,
   "id": "af4a9a0c",
   "metadata": {},
   "outputs": [],
   "source": [
    "ntuple_dir = \"/Users/jrenner/local/data/beamtest/ntuple_files/\"\n",
    "ntuple_pd_dir = \"/Users/jrenner/temp/hk/beamtest/ntuple_dataframes/\""
   ]
  },
  {
   "cell_type": "code",
   "execution_count": 3,
   "id": "4f766e01",
   "metadata": {},
   "outputs": [],
   "source": [
    "runs = [731, 732, 733, 734, 735, 736, 737, 738, 753, 754, 755, 756, 760, 763, 764, 765]\n",
    "rmomenta = [460, 500, 600, 700, 800, 900, 1000, 1200, 500, 600, 700, 800, 1000, 900, 1200, 800]"
   ]
  },
  {
   "cell_type": "code",
   "execution_count": 4,
   "id": "6aecb431",
   "metadata": {},
   "outputs": [],
   "source": [
    "# Timing and charge ranges for filters.\n",
    "pb_timing_range = (45, 75)\n",
    "tof0_timing_range = (45, 85)\n",
    "tof0_charge_range = (0.3, 1.0)\n",
    "tof1_timing_range = (60, 100)\n",
    "tof1_charge_range = (0.3, 1.0)\n",
    "t2_timing_range = (160, 180)\n",
    "t2_charge_range = (0.01, 0.0225)\n",
    "act0_timing_range = (130, 175)\n",
    "act0_charge_range = (0.1, 1.0)\n",
    "act1_timing_range = (130, 175)\n",
    "act1_charge_range = (0.02, 0.2)\n",
    "act3_timing_range = (150, 190)\n",
    "hd_timing_ranges = {\n",
    "    'HD0': (35, 75),\n",
    "    'HD1': (35, 75),\n",
    "    'HD2': (35, 75),\n",
    "    'HD3': (35, 75),\n",
    "    'HD4': (35, 75),\n",
    "    'HD5': (35, 75),\n",
    "    'HD6': (35, 75),\n",
    "    'HD7': (35, 75),\n",
    "    'HD8': (80, 120),\n",
    "    'HD9': (80, 120),\n",
    "    'HD10': (80, 120),\n",
    "    'HD11': (80, 120),\n",
    "    'HD12': (80, 120),\n",
    "    'HD13': (80, 120),\n",
    "    'HD14': (80, 120)\n",
    "}\n",
    "hd_charge_ranges = {\n",
    "    'HD0': (0.12, 0.3),\n",
    "    'HD1': (0.09, 0.2),\n",
    "    'HD2': (0.06, 0.15),\n",
    "    'HD3': (0.075, 0.2),\n",
    "    'HD4': (0.075, 0.2),\n",
    "    'HD5': (0.1, 0.3),\n",
    "    'HD6': (0.1, 0.3),\n",
    "    'HD7': (0.1, 0.3),\n",
    "    'HD8': (0.085, 0.285),\n",
    "    'HD9': (0.085, 0.285),\n",
    "    'HD10': (0.1, 0.3),\n",
    "    'HD11': (0.075, 0.275),\n",
    "    'HD12': (0.1, 0.3),\n",
    "    'HD13': (0.1, 0.4),\n",
    "    'HD14': (0.1, 0.4)    \n",
    "}"
   ]
  },
  {
   "cell_type": "markdown",
   "id": "034aee4c",
   "metadata": {},
   "source": [
    "## Multi-run analysis"
   ]
  },
  {
   "cell_type": "code",
   "execution_count": null,
   "id": "fef478a7",
   "metadata": {},
   "outputs": [],
   "source": [
    "# Run the gamma peak analysis for all runs.\n",
    "all_fit_results, all_fit_arrays = [], []\n",
    "all_ntot_evts, all_ntot_spills = [], []\n",
    "for rnum, pbeam in zip(runs, rmomenta):\n",
    "    \n",
    "    print(\"Processing run\",rnum,\"...\")\n",
    "    df_dict = hd.read_dataframes_from_csv(\"/Users/jrenner/temp/hk/beamtest/ntuple_dataframes/run000{}\".format(rnum))\n",
    "    \n",
    "    # Run the timing analysis (event selection). Note that not all \n",
    "    final_df, ntot_evts, ntot_spills = hd.timing_analysis(df_dict, pb_timing_range, tof0_timing_range, tof0_charge_range, \n",
    "                    tof1_timing_range, tof1_charge_range, t2_timing_range, t2_charge_range,\n",
    "                    act0_timing_range, act0_charge_range, act1_timing_range, act1_charge_range,\n",
    "                    act3_timing_range, hd_timing_ranges, hd_charge_ranges)\n",
    "    \n",
    "    # Save the results of the gamma peak fits for plotting later.\n",
    "    fit_results, fit_arrays = hd.gamma_peak_plots(final_df, rnum, pbeam, base_dir='plt/gamma_peaks', nbins=80, range=[0,0.8])\n",
    "    \n",
    "    all_fit_results.append(fit_results)\n",
    "    all_fit_arrays.append(fit_arrays)\n",
    "    all_ntot_evts.append(ntot_evts)\n",
    "    all_ntot_spills.append(ntot_spills)\n",
    "    \n",
    "all_fit_results = np.array(all_fit_results)\n",
    "all_fit_arrays = np.array(all_fit_arrays)"
   ]
  },
  {
   "cell_type": "code",
   "execution_count": null,
   "id": "6d73da8c",
   "metadata": {
    "scrolled": true
   },
   "outputs": [],
   "source": [
    "# Print table of results.\n",
    "for rnum,p,nevts,nspills in zip(runs, rmomenta, all_ntot_evts, all_ntot_spills):\n",
    "    print(f\"{rnum} & {p} & {nevts} & {nspills} & \\\\\\\\\")"
   ]
  },
  {
   "cell_type": "code",
   "execution_count": null,
   "id": "eae8f97f",
   "metadata": {},
   "outputs": [],
   "source": [
    "# Plot all gamma peak means and fit lines on the same plot.\n",
    "elec_hit_momenta_values = [v for v in hd.elec_hit_momenta.values()]\n",
    "fig, ax = plt.subplots(1, 1, figsize=(8, 5))\n",
    "momentum_color = {460: \"red\", 500: \"orange\", 600: \"yellow\", 700: \"green\", \n",
    "                  800: \"blue\", 900: \"violet\", 1000: \"gray\", 1100: \"brown\", 1200: \"black\"}\n",
    "momentum_plt   = {460: False, 500: False, 600: False, 700: False,\n",
    "                  800: False, 900: False, 1000: False, 1100: False, 1200: False}\n",
    "\n",
    "all_e_gamma_expected = []\n",
    "for run_momentum, fit_array in zip(rmomenta,all_fit_arrays):\n",
    "    \n",
    "    # Get the fit means and errors for this run.\n",
    "    fit_means, fit_smeans = fit_array[0], fit_array[1]\n",
    "\n",
    "    e_gamma_expected = [run_momentum - mval*1000 for mval in elec_hit_momenta_values[::-1]]\n",
    "    all_e_gamma_expected.append(e_gamma_expected)\n",
    "    \n",
    "    if(not momentum_plt[run_momentum]):\n",
    "        ax.errorbar(e_gamma_expected, fit_means, yerr=fit_smeans, fmt='.', \n",
    "                    color=momentum_color[run_momentum], label=f\"p = {run_momentum} MeV/c\")\n",
    "        momentum_plt[run_momentum] = True\n",
    "    else:\n",
    "        ax.errorbar(e_gamma_expected, fit_means, yerr=fit_smeans, fmt='.', \n",
    "                    color=momentum_color[run_momentum])\n",
    "        \n",
    "# Fit a line to all results at once.\n",
    "all_fit_means = all_fit_arrays[:,0,:].flatten()\n",
    "all_fit_smeans = all_fit_arrays[:,1,:].flatten()\n",
    "all_e_gamma_expected = np.array(all_e_gamma_expected).flatten()\n",
    "\n",
    "p0 = [(np.max(all_e_gamma_expected) - np.min(all_e_gamma_expected))/(np.max(all_fit_means) - np.min(all_fit_means)),all_e_gamma_expected[0]]\n",
    "popt, pcov = curve_fit(hd.line, all_e_gamma_expected, all_fit_means, p0, sigma=all_fit_smeans)\n",
    "x = np.linspace(50, 1120, 1000)\n",
    "y = hd.line(x, *popt)\n",
    "perr = np.sqrt(np.diag(pcov))\n",
    "#ax.plot(x, y, label='C = $({:.2f} \\pm {:.2f}) x 10^{{-4}} \\cdot $p + $({:.3f} \\pm {:.4f})$'.format(popt[0]*10000,perr[0]*10000,popt[1],perr[1]), color='red', alpha=0.8, linewidth=3, linestyle=':')\n",
    "ax.plot(x, y, color='black', alpha=0.8, linewidth=1, linestyle='-')\n",
    "ax.annotate(\"---- C = $({:.2f} \\pm {:.2f}) x 10^{{-4}} \\cdot $E + $({:.3f} \\pm {:.4f})$\".format(popt[0]*10000,perr[0]*10000,popt[1],perr[1]), xy=(500, 0.10), xytext=(200, 0.01), fontsize=14, fontweight='bold', color='black')\n",
    "\n",
    "ax.legend(title=\"Beam momentum\",title_fontsize=12,fontsize=11)\n",
    "ax.set_ylabel('Lead glass charge [arbitrary units]',fontsize=14)\n",
    "ax.set_xlabel('Expected energy [MeV]',fontsize=14)\n",
    "ax.tick_params(axis=\"x\", labelsize=14)\n",
    "ax.tick_params(axis=\"y\", labelsize=14)\n",
    "plt.savefig(\"LG_calibration.pdf\", bbox_inches='tight')"
   ]
  },
  {
   "cell_type": "code",
   "execution_count": null,
   "id": "db631822",
   "metadata": {},
   "outputs": [],
   "source": [
    "plt.errorbar(all_e_gamma_expected.flatten(),all_fit_means,yerr=all_fit_smeans,fmt='.')"
   ]
  },
  {
   "cell_type": "code",
   "execution_count": null,
   "id": "f78eb8ad",
   "metadata": {
    "scrolled": true
   },
   "outputs": [],
   "source": [
    "# Plot the slope and intercept of the calibration curve vs. momentum\n",
    "mvals = all_fit_results[:,0]\n",
    "merr = all_fit_results[:,1]\n",
    "bvals = all_fit_results[:,2]\n",
    "berr = all_fit_results[:,3]\n",
    "fvals = all_fit_results[:,4]\n",
    "ferr = all_fit_results[:,5]\n",
    "cvals = all_fit_results[:,6]\n",
    "cerr = all_fit_results[:,7]\n",
    "\n",
    "fig, axes = plt.subplots(2, 2, figsize=(18, 12))\n",
    "flat_axes = axes.ravel()\n",
    "\n",
    "flat_axes[0].errorbar(rmomenta,mvals*10000,yerr=merr*10000,fmt='o')\n",
    "flat_axes[0].set_xlabel('Beam momentum (MeV/c)',fontsize=20)\n",
    "flat_axes[0].set_ylabel('Slope $x 10^{-4}$ (LG charge)/MeV',fontsize=20)\n",
    "flat_axes[0].tick_params(axis=\"x\", labelsize=14)\n",
    "flat_axes[0].tick_params(axis=\"y\", labelsize=14)\n",
    "\n",
    "flat_axes[1].errorbar(rmomenta,bvals,yerr=berr,fmt='o')\n",
    "flat_axes[1].set_xlabel('Beam momentum (MeV/c)',fontsize=20)\n",
    "flat_axes[1].set_ylabel('Intercept (LG charge)',fontsize=20)\n",
    "flat_axes[1].tick_params(axis=\"x\", labelsize=14)\n",
    "flat_axes[1].tick_params(axis=\"y\", labelsize=14)\n",
    "\n",
    "flat_axes[2].errorbar(rmomenta,fvals,yerr=ferr,fmt='o')\n",
    "flat_axes[2].set_xlabel('Beam momentum (MeV/c)',fontsize=20)\n",
    "flat_axes[2].set_ylabel('Parameter F',fontsize=20)\n",
    "flat_axes[2].tick_params(axis=\"x\", labelsize=14)\n",
    "flat_axes[2].tick_params(axis=\"y\", labelsize=14)\n",
    "\n",
    "flat_axes[3].errorbar(rmomenta,cvals,yerr=cerr,fmt='o')\n",
    "flat_axes[3].set_xlabel('Beam momentum (MeV/c)',fontsize=20)\n",
    "flat_axes[3].set_ylabel('Parameter C',fontsize=20)\n",
    "flat_axes[3].tick_params(axis=\"x\", labelsize=14)\n",
    "flat_axes[3].tick_params(axis=\"y\", labelsize=14)"
   ]
  },
  {
   "cell_type": "markdown",
   "id": "9ebcf1d8",
   "metadata": {},
   "source": [
    "#### Single-run analysis"
   ]
  },
  {
   "cell_type": "code",
   "execution_count": 5,
   "id": "a82df004",
   "metadata": {},
   "outputs": [
    {
     "data": {
      "text/plain": [
       "dict_keys(['EventInfo', 'ACT0L', 'ACT1L', 'ACT3R', 'TOF01', 'HD3', 'HD11', 'HD10', 'HD2', 'TOF00', 'HD0', 'TOF02', 'HD12', 'HD13', 'TOF03', 'HD1', 'TOF13', 'HD5', 'PbGlass', 'TOF12', 'HD4', 'HD6', 'TOF10', 'HD14', 'HD7', 'TOF11', 'HD9', 'HD8', 'TriggerScint', 'ACT0R', 'ACT1R', 'ACT3L'])"
      ]
     },
     "execution_count": 5,
     "metadata": {},
     "output_type": "execute_result"
    }
   ],
   "source": [
    "# Read in all dataframes from a given run\n",
    "rnum = 735\n",
    "low_radiation = False\n",
    "pbeam = 800\n",
    "df_dict = hd.read_dataframes_from_csv(\"/Users/jrenner/temp/hk/beamtest/ntuple_dataframes/run000{}\".format(rnum))\n",
    "df_dict.keys()"
   ]
  },
  {
   "cell_type": "code",
   "execution_count": 6,
   "id": "0a50a9d6",
   "metadata": {},
   "outputs": [
    {
     "data": {
      "text/html": [
       "<div>\n",
       "<style scoped>\n",
       "    .dataframe tbody tr th:only-of-type {\n",
       "        vertical-align: middle;\n",
       "    }\n",
       "\n",
       "    .dataframe tbody tr th {\n",
       "        vertical-align: top;\n",
       "    }\n",
       "\n",
       "    .dataframe thead th {\n",
       "        text-align: right;\n",
       "    }\n",
       "</style>\n",
       "<table border=\"1\" class=\"dataframe\">\n",
       "  <thead>\n",
       "    <tr style=\"text-align: right;\">\n",
       "      <th></th>\n",
       "      <th>event</th>\n",
       "      <th>iPeak</th>\n",
       "      <th>nPeaks</th>\n",
       "      <th>timeStamp</th>\n",
       "      <th>triggerTime</th>\n",
       "      <th>Pedestal</th>\n",
       "      <th>PedestalSigma</th>\n",
       "      <th>PeakVoltage</th>\n",
       "      <th>PeakTime</th>\n",
       "      <th>SignalTime</th>\n",
       "      <th>IntCharge</th>\n",
       "    </tr>\n",
       "  </thead>\n",
       "  <tbody>\n",
       "    <tr>\n",
       "      <th>0</th>\n",
       "      <td>0</td>\n",
       "      <td>0</td>\n",
       "      <td>1</td>\n",
       "      <td>1690843780</td>\n",
       "      <td>303985431</td>\n",
       "      <td>1.906462</td>\n",
       "      <td>0.043167</td>\n",
       "      <td>0.372511</td>\n",
       "      <td>151.0</td>\n",
       "      <td>142.810116</td>\n",
       "      <td>0.088421</td>\n",
       "    </tr>\n",
       "    <tr>\n",
       "      <th>1</th>\n",
       "      <td>1</td>\n",
       "      <td>0</td>\n",
       "      <td>2</td>\n",
       "      <td>1690843780</td>\n",
       "      <td>305282709</td>\n",
       "      <td>1.918518</td>\n",
       "      <td>0.015369</td>\n",
       "      <td>0.649418</td>\n",
       "      <td>151.0</td>\n",
       "      <td>145.132582</td>\n",
       "      <td>0.114566</td>\n",
       "    </tr>\n",
       "    <tr>\n",
       "      <th>2</th>\n",
       "      <td>1</td>\n",
       "      <td>1</td>\n",
       "      <td>2</td>\n",
       "      <td>1690843780</td>\n",
       "      <td>305282709</td>\n",
       "      <td>1.918518</td>\n",
       "      <td>0.015369</td>\n",
       "      <td>0.213841</td>\n",
       "      <td>183.0</td>\n",
       "      <td>179.002083</td>\n",
       "      <td>0.020045</td>\n",
       "    </tr>\n",
       "    <tr>\n",
       "      <th>3</th>\n",
       "      <td>2</td>\n",
       "      <td>0</td>\n",
       "      <td>2</td>\n",
       "      <td>1690843780</td>\n",
       "      <td>305912701</td>\n",
       "      <td>1.912542</td>\n",
       "      <td>0.017631</td>\n",
       "      <td>0.136236</td>\n",
       "      <td>159.0</td>\n",
       "      <td>152.686159</td>\n",
       "      <td>0.021391</td>\n",
       "    </tr>\n",
       "    <tr>\n",
       "      <th>4</th>\n",
       "      <td>2</td>\n",
       "      <td>1</td>\n",
       "      <td>2</td>\n",
       "      <td>1690843780</td>\n",
       "      <td>305912701</td>\n",
       "      <td>1.912542</td>\n",
       "      <td>0.017631</td>\n",
       "      <td>0.265128</td>\n",
       "      <td>183.0</td>\n",
       "      <td>176.901241</td>\n",
       "      <td>0.039507</td>\n",
       "    </tr>\n",
       "  </tbody>\n",
       "</table>\n",
       "</div>"
      ],
      "text/plain": [
       "   event  iPeak  nPeaks   timeStamp  triggerTime  Pedestal  PedestalSigma  \\\n",
       "0      0      0       1  1690843780    303985431  1.906462       0.043167   \n",
       "1      1      0       2  1690843780    305282709  1.918518       0.015369   \n",
       "2      1      1       2  1690843780    305282709  1.918518       0.015369   \n",
       "3      2      0       2  1690843780    305912701  1.912542       0.017631   \n",
       "4      2      1       2  1690843780    305912701  1.912542       0.017631   \n",
       "\n",
       "   PeakVoltage  PeakTime  SignalTime  IntCharge  \n",
       "0     0.372511     151.0  142.810116   0.088421  \n",
       "1     0.649418     151.0  145.132582   0.114566  \n",
       "2     0.213841     183.0  179.002083   0.020045  \n",
       "3     0.136236     159.0  152.686159   0.021391  \n",
       "4     0.265128     183.0  176.901241   0.039507  "
      ]
     },
     "execution_count": 6,
     "metadata": {},
     "output_type": "execute_result"
    }
   ],
   "source": [
    "df_dict['ACT0L'].head()"
   ]
  },
  {
   "cell_type": "code",
   "execution_count": 7,
   "id": "aa3e1242",
   "metadata": {},
   "outputs": [
    {
     "name": "stdout",
     "output_type": "stream",
     "text": [
      "[Detector ACT0L] events go from 0 to 24949 for total of 24950\n",
      "[Detector ACT1L] events go from 0 to 24949 for total of 24950\n",
      "[Detector ACT3R] events go from 0 to 24949 for total of 24950\n",
      "[Detector TOF01] events go from 0 to 24949 for total of 24950\n",
      "[Detector HD3] events go from 0 to 24949 for total of 24950\n",
      "[Detector HD11] events go from 0 to 24949 for total of 24950\n",
      "[Detector HD10] events go from 0 to 24949 for total of 24950\n",
      "[Detector HD2] events go from 0 to 24949 for total of 24950\n",
      "[Detector TOF00] events go from 0 to 24949 for total of 24950\n",
      "[Detector HD0] events go from 0 to 24949 for total of 24950\n",
      "[Detector TOF02] events go from 0 to 24949 for total of 24950\n",
      "[Detector HD12] events go from 0 to 24949 for total of 24950\n",
      "[Detector HD13] events go from 0 to 24949 for total of 24950\n",
      "[Detector TOF03] events go from 0 to 24949 for total of 24950\n",
      "[Detector HD1] events go from 0 to 24949 for total of 24950\n",
      "[Detector TOF13] events go from 0 to 24949 for total of 24950\n",
      "[Detector HD5] events go from 0 to 24949 for total of 24950\n",
      "[Detector PbGlass] events go from 0 to 24949 for total of 24950\n",
      "[Detector TOF12] events go from 0 to 24949 for total of 24950\n",
      "[Detector HD4] events go from 0 to 24949 for total of 24950\n",
      "[Detector HD6] events go from 0 to 24949 for total of 24950\n",
      "[Detector TOF10] events go from 0 to 24949 for total of 24950\n",
      "[Detector HD14] events go from 0 to 24949 for total of 24950\n",
      "[Detector HD7] events go from 0 to 24949 for total of 24950\n",
      "[Detector TOF11] events go from 0 to 24949 for total of 24950\n",
      "[Detector HD9] events go from 0 to 24949 for total of 24950\n",
      "[Detector HD8] events go from 0 to 24949 for total of 24950\n",
      "[Detector TriggerScint] events go from 0 to 24949 for total of 24950\n",
      "[Detector ACT0R] events go from 0 to 24949 for total of 24950\n",
      "[Detector ACT1R] events go from 0 to 24949 for total of 24950\n",
      "[Detector ACT3L] events go from 0 to 24949 for total of 24950\n",
      "* Found a total of 24950 events and 108 spills.\n",
      "PbGlass filter passed 21025 of 27048 with 566 duplicates\n",
      "--> returning 20727 events\n",
      "TOF00 filter passed 25300 of 26678 with 771 duplicates\n",
      "--> returning 24914 events\n",
      "TOF01 filter passed 25148 of 26589 with 497 duplicates\n",
      "--> returning 24899 events\n",
      "TOF02 filter passed 25165 of 27071 with 600 duplicates\n",
      "--> returning 24865 events\n",
      "TOF03 filter passed 25320 of 26987 with 827 duplicates\n",
      "--> returning 24906 events\n",
      "TOF0_combined filter passed 23439 of 24807 with 0 duplicates\n",
      "--> returning 23439 events\n",
      "\n",
      "TOF10 filter passed 25140 of 26457 with 504 duplicates\n"
     ]
    },
    {
     "name": "stderr",
     "output_type": "stream",
     "text": [
      "/Users/jrenner/local/miniforge3/lib/python3.9/site-packages/pandas/core/indexing.py:1667: SettingWithCopyWarning: \n",
      "A value is trying to be set on a copy of a slice from a DataFrame.\n",
      "Try using .loc[row_indexer,col_indexer] = value instead\n",
      "\n",
      "See the caveats in the documentation: https://pandas.pydata.org/pandas-docs/stable/user_guide/indexing.html#returning-a-view-versus-a-copy\n",
      "  self.obj[key] = value\n"
     ]
    },
    {
     "name": "stdout",
     "output_type": "stream",
     "text": [
      "--> returning 24888 events\n",
      "TOF11 filter passed 25136 of 26402 with 478 duplicates\n",
      "--> returning 24897 events\n",
      "TOF12 filter passed 25139 of 26684 with 508 duplicates\n",
      "--> returning 24885 events\n",
      "TOF13 filter passed 25100 of 26766 with 458 duplicates\n",
      "--> returning 24871 events\n",
      "TOF1_combined filter passed 23304 of 24803 with 0 duplicates\n",
      "--> returning 23304 events\n",
      "\n",
      "T2 filter passed 24394 of 25160 with 6 duplicates\n",
      "--> returning 24391 events\n",
      "T2 filter passed 16642 of 24391 with 0 duplicates\n",
      "--> returning 16642 events\n",
      "\n",
      "ACT0L filter passed 27427 of 37318 with 8665 duplicates\n",
      "--> returning 22950 events\n",
      "ACT0R filter passed 23037 of 35101 with 7383 duplicates\n",
      "--> returning 19269 events\n",
      "ACT0_combined filter passed 16079 of 17736 with 0 duplicates\n",
      "--> returning 16079 events\n",
      "ACT1L filter passed 22805 of 30491 with 2522 duplicates\n",
      "--> returning 21541 events\n",
      "ACT1R filter passed 21568 of 33000 with 5081 duplicates\n",
      "--> returning 19009 events\n",
      "ACT1_combined filter passed 15290 of 16443 with 0 duplicates\n",
      "--> returning 15290 events\n",
      "ACT3 total number of valid events: 22831\n",
      "HD0 filter passed 7944 of 34950 with 1482 duplicates\n",
      "--> returning 7174 events\n",
      "HD0 filter passed 163 of 7174 with 0 duplicates\n",
      "--> returning 163 events\n",
      "HD0: 163 of 34950 events after filter\n",
      "HD1 filter passed 7876 of 38307 with 1684 duplicates\n",
      "--> returning 6993 events\n",
      "HD1 filter passed 211 of 6993 with 0 duplicates\n",
      "--> returning 211 events\n",
      "HD1: 211 of 38307 events after filter\n",
      "HD2 filter passed 9226 of 26450 with 267 duplicates\n",
      "--> returning 9091 events\n",
      "HD2 filter passed 264 of 9091 with 0 duplicates\n",
      "--> returning 264 events\n",
      "HD2: 264 of 26450 events after filter\n",
      "HD3 filter passed 6082 of 37602 with 1521 duplicates\n",
      "--> returning 5261 events\n",
      "HD3 filter passed 364 of 5261 with 0 duplicates\n",
      "--> returning 364 events\n",
      "HD3: 364 of 37602 events after filter\n",
      "HD4 filter passed 7946 of 44413 with 2983 duplicates\n",
      "--> returning 6294 events\n",
      "HD4 filter passed 413 of 6294 with 0 duplicates\n",
      "--> returning 413 events\n",
      "HD4: 413 of 44413 events after filter\n",
      "HD5 filter passed 7804 of 41767 with 2511 duplicates\n",
      "--> returning 6447 events\n",
      "HD5 filter passed 647 of 6447 with 0 duplicates\n",
      "--> returning 647 events\n",
      "HD5: 647 of 41767 events after filter\n",
      "HD6 filter passed 9626 of 49096 with 4000 duplicates\n",
      "--> returning 7374 events\n",
      "HD6 filter passed 829 of 7374 with 0 duplicates\n",
      "--> returning 829 events\n",
      "HD6: 829 of 49096 events after filter\n",
      "HD7 filter passed 9074 of 46325 with 3103 duplicates\n",
      "--> returning 7348 events\n",
      "HD7 filter passed 955 of 7348 with 0 duplicates\n",
      "--> returning 955 events\n",
      "HD7: 955 of 46325 events after filter\n",
      "HD8 filter passed 5611 of 30966 with 772 duplicates\n",
      "--> returning 5215 events\n",
      "HD8 filter passed 1280 of 5215 with 0 duplicates\n",
      "--> returning 1280 events\n",
      "HD8: 1280 of 30966 events after filter\n",
      "HD9 filter passed 8394 of 33584 with 1764 duplicates\n",
      "--> returning 7468 events\n",
      "HD9 filter passed 1650 of 7468 with 0 duplicates\n",
      "--> returning 1650 events\n",
      "HD9: 1650 of 33584 events after filter\n",
      "HD10 filter passed 7799 of 31374 with 886 duplicates\n",
      "--> returning 7341 events\n",
      "HD10 filter passed 2058 of 7341 with 0 duplicates\n",
      "--> returning 2058 events\n",
      "HD10: 2058 of 31374 events after filter\n",
      "HD11 filter passed 8302 of 40130 with 1907 duplicates\n",
      "--> returning 7269 events\n",
      "HD11 filter passed 2413 of 7269 with 0 duplicates\n",
      "--> returning 2413 events\n",
      "HD11: 2413 of 40130 events after filter\n",
      "HD12 filter passed 8021 of 31307 with 1154 duplicates\n",
      "--> returning 7415 events\n",
      "HD12 filter passed 3212 of 7415 with 0 duplicates\n",
      "--> returning 3212 events\n",
      "HD12: 3212 of 31307 events after filter\n",
      "HD13 filter passed 11564 of 32028 with 1562 duplicates\n",
      "--> returning 10740 events\n",
      "HD13 filter passed 4031 of 10740 with 0 duplicates\n",
      "--> returning 4031 events\n",
      "HD13: 4031 of 32028 events after filter\n",
      "HD14 filter passed 13459 of 28232 with 488 duplicates\n",
      "--> returning 13210 events\n",
      "HD14 filter passed 6256 of 13210 with 0 duplicates\n",
      "--> returning 6256 events\n",
      "HD14: 6256 of 28232 events after filter\n",
      "Number of hd_valid_events = 20107\n",
      "Duplicates in combined HD dataframe: 0\n",
      "Final df number of events = 17199\n"
     ]
    }
   ],
   "source": [
    "final_df, ntot_evts, ntot_spills = hd.timing_analysis(df_dict, pb_timing_range, tof0_timing_range, tof0_charge_range, \n",
    "                    tof1_timing_range, tof1_charge_range, t2_timing_range, t2_charge_range,\n",
    "                    act0_timing_range, act0_charge_range, act1_timing_range, act1_charge_range,\n",
    "                    act3_timing_range, hd_timing_ranges, hd_charge_ranges, low_radiation=low_radiation, debug=True)"
   ]
  },
  {
   "cell_type": "code",
   "execution_count": 8,
   "id": "c85237de",
   "metadata": {},
   "outputs": [
    {
     "name": "stdout",
     "output_type": "stream",
     "text": [
      "Cut & All evts (\\%) & Peak evts (\\%) & Tail evts (\\%)\\\\\n",
      "\\hline\n",
      "No cuts & 5170 (1.00) & 4743 (1.00) & 427 (1.00)\\\\\n",
      "ACT0 hit & 3650 (0.71) & 3374 (0.71) & 276 (0.65)\\\\\n",
      "ACT1 hit & 3466 (0.67) & 3219 (0.68) & 247 (0.58)\\\\\n",
      "ACT3 no hit & 4778 (0.92) & 4408 (0.93) & 370 (0.87)\\\\\n",
      "TOF0 hit & 4886 (0.95) & 4492 (0.95) & 394 (0.92)\\\\\n",
      "TOF1 hit & 4933 (0.95) & 4566 (0.96) & 367 (0.86)\\\\\n",
      "T2 hit & 3716 (0.72) & 3522 (0.74) & 194 (0.45)\\\\\n",
      "All & 1699 (0.33) & 1630 (0.34) & 69 (0.16)\\\\\n"
     ]
    }
   ],
   "source": [
    "# Print timing cut table\n",
    "cuts_hd14      = (final_df.hit_HD14 == 1)\n",
    "cuts_hd14_tail = cuts_hd14 & (final_df.LG_IntCharge <  0.1)\n",
    "cuts_hd14_peak = cuts_hd14 & (final_df.LG_IntCharge >= 0.1)\n",
    "\n",
    "# Total numbers of events \n",
    "tot_hd14 = len(final_df[cuts_hd14])\n",
    "tot_hd14_peak = len(final_df[cuts_hd14_peak])\n",
    "tot_hd14_tail = len(final_df[cuts_hd14_tail])\n",
    "\n",
    "# Cuts to evaluate.\n",
    "cuts_ACT0      = (final_df.hit_ACT0 == 1)\n",
    "cuts_ACT1      = (final_df.hit_ACT1 == 1)\n",
    "cuts_ACT3      = (final_df.nohit_ACT3 == 1)\n",
    "cuts_TOF0      = (final_df.hit_TOF0 == 1)\n",
    "cuts_TOF1      = (final_df.hit_TOF1 == 1)\n",
    "cuts_T2        = (final_df.hit_T2 == 1)\n",
    "cuts_all       = cuts_ACT0 & cuts_ACT1 & cuts_ACT3 & cuts_TOF0 & cuts_TOF1 & cuts_T2\n",
    "\n",
    "# Arrays for iterating through the cuts.\n",
    "cuts_txt = [\"No cuts\", \"ACT0 hit\", \"ACT1 hit\", \"ACT3 no hit\", \"TOF0 hit\", \"TOF1 hit\", \"T2 hit\", \"All\"]\n",
    "cuts_arr = [cuts_hd14, cuts_ACT0, cuts_ACT1, cuts_ACT3, cuts_TOF0, cuts_TOF1, cuts_T2, cuts_all]\n",
    "\n",
    "print(\"Cut & All evts (\\\\%) & Peak evts (\\\\%) & Tail evts (\\\\%)\\\\\\\\\")\n",
    "print(\"\\hline\")\n",
    "for txt,cuts in zip(cuts_txt,cuts_arr):\n",
    "    nall  = len(final_df[cuts_hd14 & cuts])\n",
    "    npeak = len(final_df[cuts_hd14_peak & cuts])\n",
    "    ntail = len(final_df[cuts_hd14_tail & cuts])\n",
    "    \n",
    "    print(f\"{txt} & {nall} ({nall/tot_hd14:.2f}) & {npeak} ({npeak/tot_hd14_peak:.2f}) & {ntail} ({ntail/tot_hd14_tail:.2f})\\\\\\\\\")"
   ]
  },
  {
   "cell_type": "code",
   "execution_count": null,
   "id": "89acf52c",
   "metadata": {
    "scrolled": false
   },
   "outputs": [],
   "source": [
    "fit_results, fit_arrays = hd.gamma_peak_plots(final_df, rnum, pbeam, base_dir='plt/gamma_peaks', nbins=80, range=[0,0.8], timing_cuts=True, low_radiation=True)"
   ]
  },
  {
   "cell_type": "code",
   "execution_count": 9,
   "id": "ee65c4ae",
   "metadata": {},
   "outputs": [
    {
     "data": {
      "image/png": "[encoded data removed]",
      "text/plain": [
       "<Figure size 1008x288 with 2 Axes>"
      ]
     },
     "metadata": {
      "needs_background": "light"
     },
     "output_type": "display_data"
    }
   ],
   "source": [
    "# Plot the timing and charge selections for HD14.\n",
    "\n",
    "# Set up the figure.\n",
    "fig, axes = plt.subplots(1, 2, figsize=(14, 4))\n",
    "flat_axes = axes.ravel()\n",
    "ax0, ax1 = flat_axes[0], flat_axes[1]\n",
    "\n",
    "# Select the timing and charge information from the HD14 peaks dataframe.\n",
    "df_hd14 = df_dict['HD14']\n",
    "hd14_timing = df_hd14[(df_hd14.PeakTime > 0) & (df_hd14.IntCharge > 0.1)]['PeakTime']\n",
    "#hd14_timing = df_hd14[df_hd14.PeakTime > 0]['PeakTime']\n",
    "hd14_charge = df_hd14[df_hd14.IntCharge > 0.02]['IntCharge']\n",
    "\n",
    "# Plot the timing information with cuts shown.\n",
    "hist_timing, bin_edges_timing = np.histogram(hd14_timing, bins=50, range=[50,150])\n",
    "bin_centers_timing = (bin_edges_timing[:-1] + bin_edges_timing[1:]) / 2\n",
    "ax0.bar(bin_edges_timing[:-1], hist_timing, width=np.diff(bin_edges_timing)[0], align='edge', color='white')\n",
    "ax0.plot(bin_edges_timing[:-1], hist_timing, color='black', drawstyle='steps-post')\n",
    "ax0.axvline(hd_timing_ranges['HD14'][0],color='black',linestyle='--')\n",
    "ax0.axvline(hd_timing_ranges['HD14'][1],color='black',linestyle='--')\n",
    "ax0.set_xlabel(\"HD14 Peak Time (samples)\",fontsize=14)\n",
    "ax0.set_ylabel('Counts/bin',fontsize=14)\n",
    "ax0.tick_params(axis=\"x\", labelsize=14)\n",
    "ax0.tick_params(axis=\"y\", labelsize=14)\n",
    "\n",
    "# Plot the charge information with cuts shown.\n",
    "hist_charge, bin_edges_charge = np.histogram(hd14_charge, bins=50, range=[0,0.6])\n",
    "bin_centers_charge = (bin_edges_charge[:-1] + bin_edges_charge[1:]) / 2\n",
    "ax1.bar(bin_edges_charge[:-1], hist_charge, width=np.diff(bin_edges_charge)[0], align='edge', color='white')\n",
    "ax1.plot(bin_edges_charge[:-1], hist_charge, color='black', drawstyle='steps-post')\n",
    "ax1.axvline(hd_charge_ranges['HD14'][0],color='black',linestyle='--')\n",
    "ax1.axvline(hd_charge_ranges['HD14'][1],color='black',linestyle='--')\n",
    "ax1.set_xlabel(\"HD14 integrated charge (arbitrary units)\",fontsize=14)\n",
    "ax1.set_ylabel('Counts/bin',fontsize=14)\n",
    "ax1.tick_params(axis=\"x\", labelsize=14)\n",
    "ax1.tick_params(axis=\"y\", labelsize=14)\n",
    "plt.savefig(\"HD14_cuts.pdf\", bbox_inches='tight')"
   ]
  },
  {
   "cell_type": "markdown",
   "id": "679ea084",
   "metadata": {},
   "source": [
    "##### Single-element histogram"
   ]
  },
  {
   "cell_type": "code",
   "execution_count": 10,
   "id": "7e7c2fb0",
   "metadata": {},
   "outputs": [],
   "source": [
    "def gauss(x, amplitude, mean, stddev):\n",
    "        return amplitude * norm.pdf(x, loc=mean, scale=stddev)"
   ]
  },
  {
   "cell_type": "code",
   "execution_count": 13,
   "id": "eee482ca",
   "metadata": {
    "scrolled": true
   },
   "outputs": [
    {
     "data": {
      "image/png": "[encoded data removed]",
      "text/plain": [
       "<Figure size 1008x504 with 1 Axes>"
      ]
     },
     "metadata": {
      "needs_background": "light"
     },
     "output_type": "display_data"
    }
   ],
   "source": [
    "nbins = 80\n",
    "e_range = [0,700]\n",
    "normed = False\n",
    "cuts_nominal = (final_df.hit_HD14 == 1) & (final_df.total_hits == 1) & (final_df.LG_nPeaks == 1)\n",
    "ecal_b = -0.022\n",
    "ecal_m = 6.28e-4\n",
    "\n",
    "# Set up the timing cuts\n",
    "if(low_radiation):\n",
    "    cuts_timing = (final_df.hit_ACT1 == 1) & (final_df.nohit_ACT3 == 1) & \\\n",
    "              (final_df.hit_TOF0 == 1) & (final_df.hit_T2 == 1)\n",
    "else:\n",
    "    cuts_timing = (final_df.hit_ACT0 == 1) & \\\n",
    "                        (final_df.hit_ACT1 == 1) & (final_df.nohit_ACT3 == 1) & \\\n",
    "                        (final_df.hit_TOF0 == 1) & (final_df.hit_TOF1 == 1) & (final_df.hit_T2 == 1)\n",
    "\n",
    "# Convert the LG charge to energy\n",
    "lg_energy = (final_df[cuts_nominal]['LG_IntCharge'] - ecal_b) / ecal_m\n",
    "lg_energy = lg_energy[lg_energy > 50]\n",
    "\n",
    "# Create the plot\n",
    "hist, bin_edges = np.histogram(lg_energy, bins=nbins, range=e_range)\n",
    "bin_centers = (bin_edges[:-1] + bin_edges[1:]) / 2\n",
    "\n",
    "# Gaussian fit\n",
    "initial_params = [np.max(hist), np.mean(hist), np.std(hist)]\n",
    "popt, pcov = curve_fit(gauss, bin_centers, hist, p0=initial_params)\n",
    "perr = np.sqrt(np.diag(pcov))\n",
    "fit_curve = gauss(bin_centers, *popt)\n",
    "        \n",
    "# Plot the fit peak\n",
    "fig = plt.figure(figsize=(14,7))\n",
    "plt.bar(bin_edges[:-1], hist, width=np.diff(bin_edges)[0], align='edge', color='white')\n",
    "plt.plot(bin_edges[:-1], hist, color='black', drawstyle='steps-post')\n",
    "plt.plot(bin_centers, fit_curve, '--', color='red', linewidth=2.0, alpha=1.0)\n",
    "\n",
    "# Prepare the legend.\n",
    "lbl1 = f\"H14 DATA\"\n",
    "lbl2 = \"$\\mu$ = {:.4f} $\\pm$ {:.4f}\".format(popt[1],perr[1])\n",
    "lbl3 = \"$\\sigma$ = {:.4f} $\\pm$ {:.4f}\".format(popt[2],perr[2])\n",
    "legend_elements = [Line2D([0], [0], color='none', lw=0, label=lbl1),\n",
    "                   Line2D([0], [0], color='none', lw=0, label=lbl2),\n",
    "                   Line2D([0], [0], color='none', lw=0, label=lbl3)]\n",
    "leg = plt.legend(handles=legend_elements, frameon=True, handlelength=0, fontsize=16)\n",
    "for i, text in enumerate(leg.get_texts()):\n",
    "    if i == 0:\n",
    "        text.set_weight('bold')\n",
    "    text.set_horizontalalignment('right')\n",
    "\n",
    "plt.xlabel(\"Lead glass energy (MeV)\",fontsize=18)\n",
    "plt.ylabel(\"Counts/bin\",fontsize=18)\n",
    "plt.gca().tick_params(axis=\"x\", labelsize=14)\n",
    "plt.gca().tick_params(axis=\"y\", labelsize=14)\n",
    "#plt.yscale('log')\n",
    "#plt.ylim([0.1,np.max(h0[0])*1.5])\n",
    "#plt.title(f\"RUN 000{rnum}, p = + {pbeam/1000} GeV/c\",fontsize=20)"
   ]
  },
  {
   "cell_type": "markdown",
   "id": "0fd8ed37",
   "metadata": {},
   "source": [
    "#### Select the peak and tail events"
   ]
  },
  {
   "cell_type": "code",
   "execution_count": null,
   "id": "eec04815",
   "metadata": {},
   "outputs": [],
   "source": [
    "df_hd14 = final_df[cuts_nominal & cuts_timing]\n",
    "evts_tail = df_hd14[df_hd14['LG_IntCharge'] < 0.1].event\n",
    "energy_tail = df_hd14[df_hd14['LG_IntCharge'] < 0.1].LG_IntCharge\n",
    "print(\"Tail events:\",len(evts_tail))\n",
    "evts_peak = df_hd14[(df_hd14['LG_IntCharge'] >= 0.1) & (df_hd14['LG_IntCharge'] < 0.4)].event\n",
    "energy_peak = df_hd14[df_hd14['LG_IntCharge'] >= 0.1].LG_IntCharge\n",
    "print(\"Peak events:\",len(evts_peak))"
   ]
  },
  {
   "cell_type": "code",
   "execution_count": null,
   "id": "efacc4ef",
   "metadata": {},
   "outputs": [],
   "source": [
    "print(\"Peak events\")\n",
    "print(evts_peak.values[0:40])\n",
    "\n",
    "print(\"Tail events\")\n",
    "evts_tail.values"
   ]
  },
  {
   "cell_type": "code",
   "execution_count": null,
   "id": "64a53807",
   "metadata": {},
   "outputs": [],
   "source": [
    "energy_tail.values"
   ]
  },
  {
   "cell_type": "code",
   "execution_count": null,
   "id": "8e217703",
   "metadata": {},
   "outputs": [],
   "source": [
    "df_PbGlass = df_dict['TOF00']\n",
    "df_PbGlass[df_PbGlass.event == 165]"
   ]
  },
  {
   "cell_type": "code",
   "execution_count": null,
   "id": "f8b86509",
   "metadata": {},
   "outputs": [],
   "source": [
    "df_dict['HD14']['event'].values"
   ]
  },
  {
   "cell_type": "markdown",
   "id": "83a7296a",
   "metadata": {},
   "source": [
    "#### Consider the timing difference between the LG and HD14"
   ]
  },
  {
   "cell_type": "code",
   "execution_count": null,
   "id": "248e378d",
   "metadata": {},
   "outputs": [],
   "source": [
    "# Select the peaks in each detector element for the events in the peak and tail.\n",
    "df_HD = df_dict['HD14']\n",
    "df_HD_peak = df_HD[df_HD['event'].isin(evts_peak)]\n",
    "df_HD_tail = df_HD[df_HD['event'].isin(evts_tail)]\n",
    "df_LG = df_dict['PbGlass']\n",
    "df_LG_peak = df_LG[df_LG['event'].isin(evts_peak)]\n",
    "df_LG_tail = df_LG[df_LG['event'].isin(evts_tail)]\n",
    "\n",
    "# Handle duplicates in the HD array (rare cases in which we had multiple HD peaks but only 1 made cuts)\n",
    "u, c = np.unique(df_HD_tail['event'], return_counts=True)\n",
    "nduplicates = np.sum(c[c > 1])\n",
    "print(nduplicates,\"duplicate events in HD tail\")\n",
    "if(nduplicates > 0): \n",
    "    print(\"Dropping duplicates in HD peak dataframe ...\")\n",
    "    df_HD_peak = df_HD_peak.drop_duplicates(subset=['event'], keep='first')\n",
    "\n",
    "u, c = np.unique(df_HD_peak['event'], return_counts=True)\n",
    "nduplicates = np.sum(c[c > 1])\n",
    "print(np.sum(c[c > 1]),\"duplicate events in HD peak\")\n",
    "if(nduplicates > 0): \n",
    "    print(\"Dropping duplicates in HD tail dataframe ...\")\n",
    "    df_HD_tail = df_HD_tail.drop_duplicates(subset=['event'], keep='first')\n",
    "\n",
    "# Get the tail time differences.\n",
    "tdiff_tail = []\n",
    "for evt,t_LG in zip(df_LG_tail['event'].values,df_LG_tail['PeakTime'].values):\n",
    "    t_HD = df_HD_tail[df_HD_tail['event'] == evt]['PeakTime'].values[0]\n",
    "    tdiff_tail.append(t_LG - t_HD)\n",
    "\n",
    "# Get the peak time differences.\n",
    "tdiff_peak = []\n",
    "for evt,t_LG in zip(df_LG_peak['event'].values,df_LG_peak['PeakTime'].values):\n",
    "    t_HD = df_HD_peak[df_HD_peak['event'] == evt]['PeakTime'].values[0]\n",
    "    tdiff_peak.append(t_LG - t_HD)"
   ]
  },
  {
   "cell_type": "code",
   "execution_count": null,
   "id": "f2abff03",
   "metadata": {},
   "outputs": [],
   "source": [
    "plt.hist(tdiff_tail,bins=40,label=\"Tail events\",alpha=0.6)\n",
    "plt.hist(tdiff_peak,bins=40,label=\"Peak events\",alpha=0.6)\n",
    "plt.yscale('log')\n",
    "plt.xlabel('PeakTime$_{LG}$ - PeakTime$_{HD14}$',fontsize=14)\n",
    "plt.ylabel(\"Counts/bin\",fontsize=14)\n",
    "plt.legend(fontsize=14)"
   ]
  },
  {
   "cell_type": "code",
   "execution_count": null,
   "id": "4146da8f",
   "metadata": {},
   "outputs": [],
   "source": [
    "_, ct = np.unique(df_HD_peak['event'],return_counts=True)\n",
    "print(\"Maximum at\",np.argmax(ct))\n",
    "df_HD_peak[df_HD_peak['event'] == 23243]"
   ]
  },
  {
   "cell_type": "markdown",
   "id": "580500ba",
   "metadata": {},
   "source": [
    "#### Plot 2D histograms for the peak and tail events"
   ]
  },
  {
   "cell_type": "code",
   "execution_count": null,
   "id": "3a9c57d4",
   "metadata": {},
   "outputs": [],
   "source": [
    "hd.plot_2D_histogram(df_dict, evt_list=evts_peak, detector1=\"HD14\", quantity1=\"PeakTime\", detector2=\"TOF10\", quantity2=\"PeakTime\", base_dir='plt_2d_peak', rnum=rnum, select_nonzero_peaks=True, logscale=False, nbins=20, range=[[75,125],[60,100]])\n",
    "hd.plot_2D_histogram(df_dict, evt_list=evts_peak, detector1=\"HD14\", quantity1=\"PeakTime\", detector2=\"TOF00\", quantity2=\"PeakTime\", base_dir='plt_2d_peak', rnum=rnum, select_nonzero_peaks=True, logscale=False, nbins=20, range=[[75,125],[40,90]])\n",
    "hd.plot_2D_histogram(df_dict, evt_list=evts_peak, detector1=\"TOF00\", quantity1=\"PeakTime\", detector2=\"TOF10\", quantity2=\"PeakTime\", base_dir='plt_2d_peak', rnum=rnum, select_nonzero_peaks=True, logscale=False, nbins=20, range=[[40,90],[60,190]])\n",
    "hd.plot_2D_histogram(df_dict, evt_list=evts_peak, detector1=\"HD14\", quantity1=\"PeakTime\", detector2=\"PbGlass\", quantity2=\"PeakTime\", base_dir='plt_2d_peak', rnum=rnum, select_nonzero_peaks=True, logscale=False, nbins=20, range=[[75,125],[40,120]])\n",
    "hd.plot_2D_histogram(df_dict, evt_list=evts_peak, detector1=\"HD14\", quantity1=\"PeakTime\", detector2=\"TriggerScint\", quantity2=\"PeakTime\", base_dir='plt_2d_peak', rnum=rnum, select_nonzero_peaks=True, logscale=False, nbins=12, range=[[75,125],[160,185]])\n",
    "\n",
    "hd.plot_2D_histogram(df_dict, evt_list=evts_tail, detector1=\"HD14\", quantity1=\"PeakTime\", detector2=\"TOF10\", quantity2=\"PeakTime\", base_dir='plt_2d_tail', rnum=rnum, select_nonzero_peaks=True, logscale=False, nbins=20, range=[[75,125],[60,100]])\n",
    "hd.plot_2D_histogram(df_dict, evt_list=evts_tail, detector1=\"HD14\", quantity1=\"PeakTime\", detector2=\"TOF00\", quantity2=\"PeakTime\", base_dir='plt_2d_tail', rnum=rnum, select_nonzero_peaks=True, logscale=False, nbins=20, range=[[75,125],[40,90]])\n",
    "hd.plot_2D_histogram(df_dict, evt_list=evts_tail, detector1=\"TOF00\", quantity1=\"PeakTime\", detector2=\"TOF10\", quantity2=\"PeakTime\", base_dir='plt_2d_tail', rnum=rnum, select_nonzero_peaks=True, logscale=False, nbins=20, range=[[40,90],[60,190]])\n",
    "hd.plot_2D_histogram(df_dict, evt_list=evts_tail, detector1=\"HD14\", quantity1=\"PeakTime\", detector2=\"PbGlass\", quantity2=\"PeakTime\", base_dir='plt_2d_tail', rnum=rnum, select_nonzero_peaks=True, logscale=False, nbins=20, range=[[75,125],[40,120]])\n",
    "hd.plot_2D_histogram(df_dict, evt_list=evts_tail, detector1=\"HD14\", quantity1=\"PeakTime\", detector2=\"TriggerScint\", quantity2=\"PeakTime\", base_dir='plt_2d_tail', rnum=rnum, select_nonzero_peaks=True, logscale=False, nbins=12, range=[[75,125],[160,185]])"
   ]
  },
  {
   "cell_type": "code",
   "execution_count": null,
   "id": "8f52f337",
   "metadata": {},
   "outputs": [],
   "source": [
    "hd2_events = final_df[(final_df.total_hits == 1) & (final_df.hit_HD2 == 1)]['event'].values"
   ]
  },
  {
   "cell_type": "code",
   "execution_count": null,
   "id": "6ea0f7c6",
   "metadata": {},
   "outputs": [],
   "source": [
    "df_HD14 = df_dict['HD14']\n",
    "df_HD14[df_HD14['event'].isin(hd2_events)].head()"
   ]
  },
  {
   "cell_type": "code",
   "execution_count": null,
   "id": "7adce7e6",
   "metadata": {},
   "outputs": [],
   "source": [
    "df_HD2 = df_dict['HD2']\n",
    "df_HD2_inpeak = df_HD2[df_HD2['event'].isin(evts_peak)]\n",
    "plt.hist(df_HD2_inpeak[df_HD2_inpeak.IntCharge > 0.01].IntCharge,bins=50)"
   ]
  },
  {
   "cell_type": "code",
   "execution_count": null,
   "id": "2a8898f5",
   "metadata": {},
   "outputs": [],
   "source": [
    "# Plot the tail events control plots\n",
    "hd.plot_histograms_for_each_signal(df_dict, evt_list=evts_tail, base_dir='plt_tail', rnum=rnum, quantity='nPeaks', select_nonzero_peaks=False, logscale=False, nbins=20)\n",
    "hd.plot_histograms_for_each_signal(df_dict, evt_list=evts_tail, base_dir='plt_tail', rnum=rnum, quantity='timeStamp', select_nonzero_peaks=False, logscale=False, nbins=40)\n",
    "hd.plot_histograms_for_each_signal(df_dict, evt_list=evts_tail, base_dir='plt_tail', rnum=rnum, quantity='triggerTime', select_nonzero_peaks=False, logscale=False, nbins=40)\n",
    "hd.plot_histograms_for_each_signal(df_dict, evt_list=evts_tail, base_dir='plt_tail', rnum=rnum, quantity='Pedestal', select_nonzero_peaks=False, logscale=True, nbins=60)\n",
    "hd.plot_histograms_for_each_signal(df_dict, evt_list=evts_tail, base_dir='plt_tail', rnum=rnum, quantity='PedestalSigma', select_nonzero_peaks=False, logscale=True, nbins=60)\n",
    "hd.plot_histograms_for_each_signal(df_dict, evt_list=evts_tail, base_dir='plt_tail', rnum=rnum, quantity='PeakVoltage', select_nonzero_peaks=True, logscale=False, nbins=60)\n",
    "hd.plot_histograms_for_each_signal(df_dict, evt_list=evts_tail, base_dir='plt_tail', rnum=rnum, quantity='PeakTime', select_nonzero_peaks=True, logscale=False, nbins=40)\n",
    "hd.plot_histograms_for_each_signal(df_dict, evt_list=evts_tail, base_dir='plt_tail', rnum=rnum, quantity='SignalTime', select_nonzero_peaks=True, logscale=False, nbins=60)\n",
    "hd.plot_histograms_for_each_signal(df_dict, evt_list=evts_tail, base_dir='plt_tail', rnum=rnum, quantity='IntCharge', select_nonzero_peaks=True, logscale=False, nbins=60)\n",
    "\n",
    "# Plot the peak events control plots\n",
    "hd.plot_histograms_for_each_signal(df_dict, evt_list=evts_peak, base_dir='plt_peak', rnum=rnum, quantity='nPeaks', select_nonzero_peaks=False, logscale=False, nbins=20)\n",
    "hd.plot_histograms_for_each_signal(df_dict, evt_list=evts_peak, base_dir='plt_peak', rnum=rnum, quantity='timeStamp', select_nonzero_peaks=False, logscale=False, nbins=40)\n",
    "hd.plot_histograms_for_each_signal(df_dict, evt_list=evts_peak, base_dir='plt_peak', rnum=rnum, quantity='triggerTime', select_nonzero_peaks=False, logscale=False, nbins=40)\n",
    "hd.plot_histograms_for_each_signal(df_dict, evt_list=evts_peak, base_dir='plt_peak', rnum=rnum, quantity='Pedestal', select_nonzero_peaks=False, logscale=True, nbins=60)\n",
    "hd.plot_histograms_for_each_signal(df_dict, evt_list=evts_peak, base_dir='plt_peak', rnum=rnum, quantity='PedestalSigma', select_nonzero_peaks=False, logscale=True, nbins=60)\n",
    "hd.plot_histograms_for_each_signal(df_dict, evt_list=evts_peak, base_dir='plt_peak', rnum=rnum, quantity='PeakVoltage', select_nonzero_peaks=True, logscale=False, nbins=60)\n",
    "hd.plot_histograms_for_each_signal(df_dict, evt_list=evts_peak, base_dir='plt_peak', rnum=rnum, quantity='PeakTime', select_nonzero_peaks=True, logscale=False, nbins=40)\n",
    "hd.plot_histograms_for_each_signal(df_dict, evt_list=evts_peak, base_dir='plt_peak', rnum=rnum, quantity='SignalTime', select_nonzero_peaks=True, logscale=False, nbins=60)\n",
    "hd.plot_histograms_for_each_signal(df_dict, evt_list=evts_peak, base_dir='plt_peak', rnum=rnum, quantity='IntCharge', select_nonzero_peaks=True, logscale=False, nbins=60)"
   ]
  },
  {
   "cell_type": "markdown",
   "id": "0096db74",
   "metadata": {},
   "source": [
    "#### Show the effects of the ACT and TOF cuts"
   ]
  },
  {
   "cell_type": "code",
   "execution_count": null,
   "id": "1dbe60d0",
   "metadata": {},
   "outputs": [],
   "source": [
    "cuts_all = (final_df.total_hits == 1) \n",
    "cuts_ACT0 = cuts_all #& (final_df.hit_ACT0 == 1)\n",
    "cuts_ACT1 = cuts_ACT0 & (final_df.hit_ACT1 == 1)\n",
    "cuts_ACT3 = cuts_ACT1 & (final_df.nohit_ACT3 == 1)\n",
    "\n",
    "fig = plt.figure(figsize=(14,7))\n",
    "plt.hist(final_df[(final_df.hit_HD14 == 1) & cuts_all]['IntCharge'],bins=40,label=\"HD14\")\n",
    "plt.hist(final_df[(final_df.hit_HD14 == 1) & cuts_ACT0]['IntCharge'],bins=40,label=\"HD14+ACT0\")\n",
    "plt.hist(final_df[(final_df.hit_HD14 == 1) & cuts_ACT1]['IntCharge'],bins=40,label=\"HD14+ACT0/1\")\n",
    "plt.hist(final_df[(final_df.hit_HD14 == 1) & cuts_ACT3]['IntCharge'],bins=40,label=\"HD14+ACT0/1/3\")\n",
    "\n",
    "plt.xlabel(\"Lead glass charge\",fontsize=14)\n",
    "plt.ylabel(\"Counts/bin\",fontsize=14)\n",
    "plt.title(f\"RUN 000{rnum}, p = + 0.7 GeV/c\",fontsize=20)\n",
    "plt.legend()"
   ]
  },
  {
   "cell_type": "code",
   "execution_count": null,
   "id": "9f3793f5",
   "metadata": {},
   "outputs": [],
   "source": [
    "cuts_all = (final_df.total_hits == 1) \n",
    "cuts_ACT0 = cuts_all #& (final_df.hit_ACT0 == 1)\n",
    "cuts_ACT1 = cuts_ACT0 & (final_df.hit_ACT1 == 1)\n",
    "cuts_ACT3 = cuts_ACT1 & (final_df.nohit_ACT3 == 1)\n",
    "\n",
    "fig = plt.figure(figsize=(14,7))\n",
    "plt.hist(final_df[(final_df.hit_HD14 == 1) & cuts_all]['IntCharge'],bins=40,label=\"HD14\")\n",
    "plt.hist(final_df[(final_df.hit_HD14 == 1) & cuts_ACT0]['IntCharge'],bins=40,label=\"HD14+ACT0\")\n",
    "plt.hist(final_df[(final_df.hit_HD14 == 1) & cuts_ACT1]['IntCharge'],bins=40,label=\"HD14+ACT0/1\")\n",
    "plt.hist(final_df[(final_df.hit_HD14 == 1) & cuts_ACT3]['IntCharge'],bins=40,label=\"HD14+ACT0/1/3\")\n",
    "\n",
    "plt.xlabel(\"Lead glass charge\",fontsize=14)\n",
    "plt.ylabel(\"Counts/bin\",fontsize=14)\n",
    "plt.title(f\"RUN 000{rnum}, p = + 0.7 GeV/c\",fontsize=20)\n",
    "plt.legend()"
   ]
  },
  {
   "cell_type": "markdown",
   "id": "d403126d",
   "metadata": {},
   "source": [
    "#### Count the number of events in the tails"
   ]
  },
  {
   "cell_type": "code",
   "execution_count": null,
   "id": "7136cbe7",
   "metadata": {},
   "outputs": [],
   "source": [
    "cuts_nominal = (final_df.hit_HD14 == 1) & (final_df.total_hits == 1) & (final_df.LG_nPeaks == 1)\n",
    "if(low_radiation):\n",
    "    cuts_timing = (final_df.hit_ACT1 == 1) & (final_df.nohit_ACT3 == 1) & \\\n",
    "              (final_df.hit_TOF0 == 1) & (final_df.hit_T2 == 1)\n",
    "else:\n",
    "    cuts_timing = (final_df.hit_ACT0 == 1) & \\\n",
    "                        (final_df.hit_ACT1 == 1) & (final_df.nohit_ACT3 == 1) & \\\n",
    "                        (final_df.hit_TOF0 == 1) & (final_df.hit_TOF1 == 1) & (final_df.hit_T2 == 1)\n",
    "normed=False\n",
    "    \n",
    "values_hd14 = final_df[cuts_nominal & cuts_timing]['LG_IntCharge']\n",
    "\n",
    "ntail = len(values_hd14[values_hd14 < 0.1])\n",
    "npeak = len(values_hd14[values_hd14 >= 0.1])\n",
    "ftail = ntail/(npeak+ntail)\n",
    "fpeak = npeak/(npeak+ntail)\n",
    "print(\"Number of counts < 0.1:\",ntail)\n",
    "print(\"Number of counts >= 0.1:\",npeak)\n",
    "print(\"Ratio of tail/total events:\",ftail)\n",
    "print(\"Ratio of peak/total events:\",fpeak)\n",
    "\n",
    "fig = plt.figure(figsize=(14,7))\n",
    "h0 = plt.hist(values_hd14,bins=80,label=\"HD14\",range=[0,0.5],density=normed)\n",
    "plt.xlabel(\"Lead glass charge\",fontsize=18)\n",
    "plt.ylabel(\"Counts/bin\",fontsize=18)\n",
    "plt.title(f\"RUN 000{rnum}, p = + 0.8 GeV/c;\\n{ntail} tail events < 0.1 ({ftail*100:.2f}%), {npeak} peak events >= 0.1 ({fpeak*100:.2f}%)\",fontsize=20)\n",
    "plt.legend(fontsize=18)"
   ]
  },
  {
   "cell_type": "code",
   "execution_count": null,
   "id": "789c4a74",
   "metadata": {},
   "outputs": [],
   "source": []
  },
  {
   "cell_type": "code",
   "execution_count": null,
   "id": "0721b95a",
   "metadata": {},
   "outputs": [],
   "source": [
    "cuts_all = (final_df.total_hits == 1) \n",
    "cuts_TOF0 = cuts_all & (final_df.hit_TOF0 == 1)\n",
    "cuts_TOF1 = cuts_TOF0 & (final_df.hit_TOF1 == 1)\n",
    "cuts_T2 = cuts_TOF1 & (final_df.hit_T2 == 1)\n",
    "\n",
    "fig = plt.figure(figsize=(14,7))\n",
    "plt.hist(final_df[(final_df.hit_HD14 == 1) & cuts_all]['IntCharge'],bins=40,label=\"HD14\")\n",
    "plt.hist(final_df[(final_df.hit_HD14 == 1) & cuts_TOF0]['IntCharge'],bins=40,label=\"HD14+TOF0\")\n",
    "plt.hist(final_df[(final_df.hit_HD14 == 1) & cuts_TOF1]['IntCharge'],bins=40,label=\"HD14+TOF0/1\")\n",
    "plt.hist(final_df[(final_df.hit_HD14 == 1) & cuts_T2]['IntCharge'],bins=40,label=\"HD14+TOF0/1/2\")\n",
    "\n",
    "plt.xlabel(\"Lead glass charge\",fontsize=14)\n",
    "plt.ylabel(\"Counts/bin\",fontsize=14)\n",
    "plt.title(\"RUN 000734, p = + 0.7 GeV/c\",fontsize=20)\n",
    "plt.legend()"
   ]
  },
  {
   "cell_type": "code",
   "execution_count": null,
   "id": "a14544ec",
   "metadata": {},
   "outputs": [],
   "source": [
    "#plt.hist(df_dict['ACT3L'][df_dict['ACT3L']['PeakTime'] > 10]['PeakTime'],bins=100)\n",
    "plt.hist(df_dict['ACT1L'][df_dict['ACT1L']['PeakTime'] > 10]['PeakTime'],bins=100)\n",
    "#plt.hist(act0_combined['combined_charge'],bins=100)"
   ]
  },
  {
   "cell_type": "code",
   "execution_count": null,
   "id": "f17a7e3d",
   "metadata": {},
   "outputs": [],
   "source": [
    "plt.hist(tof1_combined['combined_charge'],bins=100,range=[0,1])\n",
    "#plt.hist(df_dict['TOF00']['PeakTime'],bins=100,range=[35,90])\n",
    "#plt.hist(df_dict['TriggerScint']['IntCharge'],bins=100,range=[0,0.05])"
   ]
  },
  {
   "cell_type": "code",
   "execution_count": null,
   "id": "0ed19cec",
   "metadata": {},
   "outputs": [],
   "source": [
    "events = uproot.open(\"{}\".format(\"../ntuples/ntuple_000734.root\"))\n",
    "main_keys = events.keys()"
   ]
  },
  {
   "cell_type": "code",
   "execution_count": null,
   "id": "db566634",
   "metadata": {},
   "outputs": [],
   "source": [
    "dataframes"
   ]
  },
  {
   "cell_type": "markdown",
   "id": "c2d74f0a",
   "metadata": {},
   "source": [
    "## Plot of magnetic field map"
   ]
  },
  {
   "cell_type": "code",
   "execution_count": null,
   "id": "c4ffacf0",
   "metadata": {},
   "outputs": [],
   "source": [
    "# Read the field map.\n",
    "df = pd.read_csv('mfMapMeasured.txt', delim_whitespace=True, comment='%', header=None)\n",
    "\n",
    "# Assign column names\n",
    "df.columns = ['x', 'y', 'z', 'Bx', 'By', 'Bz']\n",
    "\n",
    "# Compute the magnitude of the field\n",
    "df['Bmag'] = np.sqrt(df['Bx']**2 + df['By']**2 + df['Bz']**2)\n",
    "\n",
    "df.head()"
   ]
  },
  {
   "cell_type": "code",
   "execution_count": null,
   "id": "0ff5597c",
   "metadata": {},
   "outputs": [],
   "source": [
    "# Filter dataframe for a specific y-plane, for example, y=0\n",
    "y_plane = 0\n",
    "#df_filtered = df[(df['y'] == y_plane) & (df['z'] > -100) & (df['z'] < 250)]\n",
    "df_filtered = df[df['y'] == y_plane]\n",
    "\n",
    "# Create a pivot table for the magnitude values\n",
    "pivot = df_filtered.pivot(index='x', columns='z', values='Bmag').fillna(0)\n",
    "\n",
    "# Create the heatmap\n",
    "plt.figure(figsize=(10,6))\n",
    "plt.imshow(pivot, aspect='auto', cmap='viridis', origin='lower', \n",
    "           extent=[pivot.columns.min(), pivot.columns.max(), pivot.index.min(), pivot.index.max()])\n",
    "plt.colorbar(label='Field Magnitude (T)')\n",
    "plt.title(f'Magnetic Field Magnitude in x-z plane at Y={y_plane}')\n",
    "plt.xlabel('Z (mm)')\n",
    "plt.ylabel('X (mm)')\n",
    "plt.show()"
   ]
  },
  {
   "cell_type": "code",
   "execution_count": null,
   "id": "efe79e3b",
   "metadata": {},
   "outputs": [],
   "source": [
    "# Filter dataframe for a specific z-plane, e.g., z=0\n",
    "z_plane = 75\n",
    "df_filtered = df[df['z'] == z_plane]\n",
    "arrow_scale = 1\n",
    "\n",
    "# Create the quiver (arrow) plot\n",
    "plt.figure(figsize=(12,8))\n",
    "plt.quiver(df_filtered['x'], df_filtered['y'], arrow_scale*df_filtered['Bx'], arrow_scale*df_filtered['By'], \n",
    "           angles='xy', scale_units='xy', scale=1, color='blue', width=0.002)\n",
    "plt.title(f'Magnetic Field Direction in x-y plane at Z={z_plane}')\n",
    "plt.xlabel('X (mm)')\n",
    "plt.ylabel('Y (mm)')\n",
    "plt.axis('equal')\n",
    "plt.show()\n"
   ]
  },
  {
   "cell_type": "code",
   "execution_count": null,
   "id": "38a70bc5",
   "metadata": {},
   "outputs": [],
   "source": [
    "df_filtered"
   ]
  },
  {
   "cell_type": "code",
   "execution_count": null,
   "id": "d4bdd10a",
   "metadata": {},
   "outputs": [],
   "source": [
    "pivot"
   ]
  },
  {
   "cell_type": "markdown",
   "id": "cec86238",
   "metadata": {},
   "source": [
    "## Waveform analysis"
   ]
  },
  {
   "cell_type": "code",
   "execution_count": null,
   "id": "5a7c6a1e",
   "metadata": {},
   "outputs": [],
   "source": [
    "import json5\n",
    "import sys\n",
    "sys.path.append(\"..\")\n",
    "import waveform_analysis as wf"
   ]
  },
  {
   "cell_type": "code",
   "execution_count": null,
   "id": "7f3c9b7a",
   "metadata": {},
   "outputs": [],
   "source": [
    "# Open the run file and config file.\n",
    "run_file = uproot.open(\"root_run_000735.root\")\n",
    "config = json5.load(open(\"../../../config/config_hodoscope.json\"))['WaveAnalysis']\n",
    "\n",
    "# Load the waveforms for HD14.\n",
    "waveforms_HD14 = run_file['midas_data_D302']['Channel7'].array().to_numpy()\n",
    "\n",
    "# Run the analysis of the waveforms.\n",
    "analysis = wf.WaveformAnalysis(waveforms_HD14,\n",
    "                            threshold=config[\"Thresholds\"][0],\n",
    "                            analysis_window=(config[\"AnalysisWindowLow\"][0], config[\"AnalysisWindowHigh\"][0]),\n",
    "                            pedestal_window=(config[\"PedestalWindowLow\"][0], config[\"PedestalWindowHigh\"][0]),\n",
    "                            reverse_polarity=(config[\"Polarity\"][0]==0),\n",
    "                            voltage_scale=config[\"VoltageScale\"],\n",
    "                            time_offset=config[\"TimeOffset\"][0])\n",
    "analysis.find_all_peak_voltages()"
   ]
  },
  {
   "cell_type": "code",
   "execution_count": null,
   "id": "0249fd76",
   "metadata": {},
   "outputs": [],
   "source": [
    "evt = 20675\n",
    "base_dir = \"plt_waveforms\"\n",
    "\n",
    "fig, axs = plt.subplots(1, 1, figsize=(7,4))\n",
    "fig.tight_layout()\n",
    "axs.plot(waveforms_HD14[evt][0:100],color='black')\n",
    "#plt.title(f\"\")\n",
    "\n",
    "# Iterate over peak times and plot arrows\n",
    "for peak in analysis.pulse_peak_times[evt]:\n",
    "\n",
    "    # Divide out the 2 ns / sample.\n",
    "    peak_sample = int(peak/2)\n",
    "    \n",
    "    # Get the corresponding ADC count for the peak time\n",
    "    y_peak = waveforms_HD14[evt][int(peak/2)]\n",
    "    \n",
    "    # Plot the arrow. The -5 in dy is arbitrary and used to offset the arrow tip for visibility.\n",
    "    axs.arrow(peak_sample, y_peak-700, 0, 15, head_width=2, head_length=450, fc='red', ec='red')\n",
    "\n",
    "axs.grid(alpha=0.4)\n",
    "axs.set_xlabel(\"Sample (2 ns)\",fontsize=14)\n",
    "axs.set_ylabel(\"ADC counts\",fontsize=14)\n",
    "axs.tick_params(axis=\"x\", labelsize=14)\n",
    "axs.tick_params(axis=\"y\", labelsize=14)\n",
    "\n",
    "out_dir = f\"{base_dir}/HD14\"\n",
    "if not os.path.exists(out_dir):\n",
    "    os.makedirs(out_dir)\n",
    "plt.savefig(f\"{out_dir}/wf_HD14_{evt}.pdf\", bbox_inches='tight')\n",
    "#plt.close()"
   ]
  },
  {
   "cell_type": "markdown",
   "id": "3027037f",
   "metadata": {},
   "source": [
    "### Create dataframes for all runs"
   ]
  },
  {
   "cell_type": "code",
   "execution_count": null,
   "id": "d4c5469f",
   "metadata": {},
   "outputs": [],
   "source": [
    "runs = np.arange(630,766)\n",
    "for run in runs:\n",
    "    ntuple_file = \"{}/ntuple_000{}.root\".format(ntuple_dir,run)\n",
    "    output_dir = \"{}/run000{}\".format(ntuple_pd_dir,run)\n",
    "    \n",
    "    # Make sure the file exists\n",
    "    if(not os.path.isfile(ntuple_file)):\n",
    "        continue\n",
    "    \n",
    "    print(\"Creating dataframes for run\",run,\"...\")\n",
    "    \n",
    "    # Create the dataframe dictionary\n",
    "    df_dict = hd.ntuple_to_pd_multipeak(ntuple_file)\n",
    "\n",
    "    # Save all the dataframes for this run\n",
    "    if not os.path.exists(output_dir):\n",
    "        os.makedirs(output_dir)\n",
    "\n",
    "    for key, df in df_dict.items():\n",
    "        filepath = os.path.join(output_dir, f\"{key}.csv\")\n",
    "        df.to_csv(filepath, index=False)"
   ]
  },
  {
   "cell_type": "markdown",
   "id": "e9a15e95",
   "metadata": {},
   "source": [
    "### Plot all quantities for each signal for each run"
   ]
  },
  {
   "cell_type": "code",
   "execution_count": null,
   "id": "8c9b017d",
   "metadata": {},
   "outputs": [],
   "source": [
    "runs = np.arange(786,788)\n",
    "for run in runs:\n",
    "    rnum = f\"000{run}\"\n",
    "    run_dir = \"{}/run{}\".format(ntuple_pd_dir, rnum)\n",
    "    \n",
    "    # Make sure the run exists\n",
    "    if(run < 720 or not os.path.isdir(run_dir)):\n",
    "        continue\n",
    "        \n",
    "    print(\"Computing statistics for run\",run)\n",
    "\n",
    "    # Read in all dataframes for this run\n",
    "    df_dict = hd.read_dataframes_from_csv(run_dir)\n",
    "    \n",
    "    hd.plot_histograms_for_each_signal(df_dict, base_dir='plt', rnum=rnum, quantity='nPeaks', select_nonzero_peaks=False, logscale=False, nbins=20)\n",
    "    hd.plot_histograms_for_each_signal(df_dict, base_dir='plt', rnum=rnum, quantity='timeStamp', select_nonzero_peaks=False, logscale=False, nbins=40)\n",
    "    hd.plot_histograms_for_each_signal(df_dict, base_dir='plt', rnum=rnum, quantity='triggerTime', select_nonzero_peaks=False, logscale=False, nbins=40)\n",
    "    hd.plot_histograms_for_each_signal(df_dict, base_dir='plt', rnum=rnum, quantity='Pedestal', select_nonzero_peaks=False, logscale=True, nbins=60)\n",
    "    hd.plot_histograms_for_each_signal(df_dict, base_dir='plt', rnum=rnum, quantity='PedestalSigma', select_nonzero_peaks=False, logscale=True, nbins=60)\n",
    "    hd.plot_histograms_for_each_signal(df_dict, base_dir='plt', rnum=rnum, quantity='PeakVoltage', select_nonzero_peaks=True, logscale=False, nbins=60)\n",
    "    hd.plot_histograms_for_each_signal(df_dict, base_dir='plt', rnum=rnum, quantity='PeakTime', select_nonzero_peaks=True, logscale=False, nbins=40)\n",
    "    hd.plot_histograms_for_each_signal(df_dict, base_dir='plt', rnum=rnum, quantity='SignalTime', select_nonzero_peaks=True, logscale=False, nbins=60)\n",
    "    hd.plot_histograms_for_each_signal(df_dict, base_dir='plt', rnum=rnum, quantity='IntCharge', select_nonzero_peaks=True, logscale=False, nbins=60)"
   ]
  },
  {
   "cell_type": "markdown",
   "id": "24a44415",
   "metadata": {},
   "source": [
    "## Compute and plot statistics for each run"
   ]
  },
  {
   "cell_type": "code",
   "execution_count": null,
   "id": "34a1a604",
   "metadata": {},
   "outputs": [],
   "source": [
    "statistics_data = {}\n",
    "\n",
    "runs = np.arange(630,766)\n",
    "for run in runs:\n",
    "    run_dir = \"{}/run000{}\".format(ntuple_pd_dir, run)\n",
    "    \n",
    "    # Make sure the run exists\n",
    "    if(run < 720 or not os.path.isdir(run_dir)):\n",
    "        continue\n",
    "        \n",
    "    print(\"Computing statistics for run\",run)\n",
    "\n",
    "    # Read in all dataframes for this run\n",
    "    df_dict = hd.read_dataframes_from_csv(run_dir)\n",
    "    \n",
    "    # Compute statistics for this run and save them\n",
    "    statistics_data[run] = {}\n",
    "    for key in custom_order:\n",
    "        statistics_data[run][key] = hd.compute_statistics(df_dict[key])"
   ]
  },
  {
   "cell_type": "markdown",
   "id": "893f83db",
   "metadata": {},
   "source": [
    "#### Plot summary statistics from each run"
   ]
  },
  {
   "cell_type": "code",
   "execution_count": null,
   "id": "5dc9800f",
   "metadata": {},
   "outputs": [],
   "source": [
    "statistics_keys = ['avg_nPeaks', 'avg_Pedestal', 'avg_PedestalSigma', 'peak_PeakVoltage', 'peak_PeakTime', 'peak_SignalTime', 'peak_IntCharge']\n",
    "act_set = ['ACT0L', 'ACT0R', 'ACT1L', 'ACT1R', 'ACT3L', 'ACT3R', 'PbGlass']\n",
    "tof_set = ['TOF00', 'TOF01', 'TOF02', 'TOF03', 'TOF10', 'TOF11', 'TOF12', 'TOF13', 'TriggerScint']\n",
    "hd_set  = ['HD0', 'HD1', 'HD2', 'HD3', 'HD4', 'HD5', 'HD6', 'HD7', 'HD8', 'HD9', 'HD10', 'HD11', 'HD12', 'HD13', 'HD14']\n",
    "\n",
    "hd.plot_statistics_vs_run(statistics_data, statistics_keys, act_set, base_dir='plt', signal_set_name='ACT')\n",
    "hd.plot_statistics_vs_run(statistics_data, statistics_keys, tof_set, base_dir='plt', signal_set_name='TOF')\n",
    "hd.plot_statistics_vs_run(statistics_data, statistics_keys, hd_set, base_dir='plt', signal_set_name='HD')"
   ]
  },
  {
   "cell_type": "markdown",
   "id": "97682066",
   "metadata": {},
   "source": [
    "## Single-peak analysis"
   ]
  },
  {
   "cell_type": "markdown",
   "id": "5735f8d3",
   "metadata": {},
   "source": [
    "### Runs 670 - 677: Trigger T0 and T2 Coincidence with Hodoscope OR Lead Glass - 1% Slit\n",
    "#### Please note that ntuples 672 (700 MeV), 674 (900 MeV), 675 (1 GeV) and 716 (700 MeV) cannot be produced with Nick script. This is something that may need to be considered."
   ]
  },
  {
   "cell_type": "code",
   "execution_count": null,
   "id": "df481e8b",
   "metadata": {},
   "outputs": [],
   "source": [
    "# Convert the ROOT file to a CSV\n",
    "run  = \"000734\"\n",
    "path = \"../ntuples/ntuple_\"\n",
    "df   = ntuple_to_pd(path + \"{}.root\".format(run))"
   ]
  },
  {
   "cell_type": "code",
   "execution_count": null,
   "id": "4175dd46",
   "metadata": {
    "scrolled": true
   },
   "outputs": [],
   "source": [
    "df.head(100)"
   ]
  },
  {
   "cell_type": "markdown",
   "id": "14455cf2",
   "metadata": {},
   "source": [
    "## Peak time analysis"
   ]
  },
  {
   "cell_type": "code",
   "execution_count": null,
   "id": "52c6d1e4",
   "metadata": {},
   "outputs": [],
   "source": [
    "# Create entries in dataframe for averages in peak times\n",
    "df['PeakTimeACT0'] = (df['PeakTime0'] + df['PeakTime1'])/2\n",
    "df['PeakTimeACT1'] = (df['PeakTime2'] + df['PeakTime3'])/2\n",
    "df['PeakTimeACT3'] = (df['PeakTime4'] + df['PeakTime5'])/2\n",
    "df['PeakVoltageACT3'] = (df['PeakVoltage4'] + df['PeakVoltage5'])/2\n",
    "df['PeakTimeTOF0'] = (df['PeakTime8'] + df['PeakTime9'] + df['PeakTime10'] + df['PeakTime11'])/4\n",
    "df['PeakTimeTOF1'] = (df['PeakTime12'] + df['PeakTime13'] + df['PeakTime14'] + df['PeakTime15'])/4"
   ]
  },
  {
   "cell_type": "code",
   "execution_count": null,
   "id": "1b5567a5",
   "metadata": {},
   "outputs": [],
   "source": [
    "rng_time = [0,200]\n",
    "nbins_time = 100\n",
    "\n",
    "fig = plt.figure(figsize=(18,7))\n",
    "\n",
    "h_ACT0R = plt.hist(df['PeakTime0'],bins=nbins_time,range=rng_time,label=\"ACT0-R\")\n",
    "h_ACT0L = plt.hist(df['PeakTime1'],bins=nbins_time,range=rng_time,label=\"ACT0-L\")\n",
    "h_ACT1L = plt.hist(df['PeakTime2'],bins=nbins_time,range=rng_time,label=\"ACT1-R\")\n",
    "h_ACT1R = plt.hist(df['PeakTime3'],bins=nbins_time,range=rng_time,label=\"ACT1-L\")\n",
    "h_ACT3L = plt.hist(df['PeakTime4'],bins=nbins_time,range=rng_time,label=\"ACT3-R\")\n",
    "h_ACT3R = plt.hist(df['PeakTime5'],bins=nbins_time,range=rng_time,label=\"ACT3-L\")\n",
    "\n",
    "h_trig = plt.hist(df['PeakTime6'],bins=nbins_time,range=rng_time,label=\"Trigger scintillator\")\n",
    "\n",
    "h_TOF00 = plt.hist(df['PeakTime8'],bins=nbins_time,range=rng_time,label='TOF0-0')\n",
    "h_TOF01 = plt.hist(df['PeakTime9'],bins=nbins_time,range=rng_time,label='TOF0-1')\n",
    "h_TOF02 = plt.hist(df['PeakTime10'],bins=nbins_time,range=rng_time,label='TOF0-2')\n",
    "h_TOF03 = plt.hist(df['PeakTime11'],bins=nbins_time,range=rng_time,label='TOF0-3')\n",
    "\n",
    "h_TOF10 = plt.hist(df['PeakTime12'],bins=nbins_time,range=rng_time,label='TOF1-0')\n",
    "h_TOF11 = plt.hist(df['PeakTime13'],bins=nbins_time,range=rng_time,label='TOF1-1')\n",
    "h_TOF12 = plt.hist(df['PeakTime14'],bins=nbins_time,range=rng_time,label='TOF1-2')\n",
    "h_TOF13 = plt.hist(df['PeakTime15'],bins=nbins_time,range=rng_time,label='TOF1-3')\n",
    "\n",
    "plt.tick_params(axis='both', which='major', labelsize=18)\n",
    "plt.ylabel(\"Counts/bin\",fontsize=18)\n",
    "plt.xlabel(\"Peak time (ns)\",fontsize=18)\n",
    "\n",
    "plt.legend(loc=2,fontsize=14)\n",
    "plt.savefig(\"peak_times.png\", bbox_inches='tight')"
   ]
  },
  {
   "cell_type": "code",
   "execution_count": null,
   "id": "107679e5",
   "metadata": {},
   "outputs": [],
   "source": [
    "rng_time = [0,200]\n",
    "nbins_time = 60\n",
    "alpha_time = 0.8\n",
    "\n",
    "fig = plt.figure(figsize=(18,7))\n",
    "\n",
    "h_ACT0 = plt.hist(df['PeakTimeACT0'],bins=nbins_time,range=rng_time,label=\"ACT0 avg\",alpha=alpha_time)\n",
    "h_ACT1 = plt.hist(df['PeakTimeACT1'],bins=nbins_time,range=rng_time,label=\"ACT1 avg\",alpha=alpha_time)\n",
    "h_ACT3 = plt.hist(df[df['PeakVoltageACT3'] > 0.5]['PeakTimeACT3'],bins=nbins_time,range=rng_time,label=\"ACT3 avg (V$_{peak}$ > 0.5)\",alpha=alpha_time)\n",
    "\n",
    "h_TOF0 = plt.hist(df['PeakTimeTOF0'],bins=nbins_time,range=rng_time,label='T0 avg',alpha=alpha_time)\n",
    "h_TOF1 = plt.hist(df['PeakTimeTOF1'],bins=nbins_time,range=rng_time,label='T1 avg',alpha=alpha_time)\n",
    "\n",
    "h_trig = plt.hist(df['PeakTime6'],bins=nbins_time,range=rng_time,label=\"T2 avg\",alpha=alpha_time)\n",
    "\n",
    "plt.tick_params(axis='both', which='major', labelsize=14)\n",
    "plt.ylabel(\"Counts/bin\",fontsize=18)\n",
    "plt.xlabel(\"Peak time (ns)\",fontsize=18)\n",
    "\n",
    "plt.legend(loc=2,fontsize=18)\n",
    "plt.savefig(\"peak_times_avg.png\", bbox_inches='tight')"
   ]
  },
  {
   "cell_type": "code",
   "execution_count": null,
   "id": "65a8dbfa",
   "metadata": {},
   "outputs": [],
   "source": [
    "fig, ax = plt.subplots(figsize=(6,4))\n",
    "h2_ACT3 = ax.hist2d(df['PeakTimeACT3'],df['PeakVoltageACT3'],bins=[30,30],norm=matplotlib.colors.LogNorm())\n",
    "fig.colorbar(h2_ACT3[3],ax=ax)\n",
    "plt.xlabel(\"ACT3 avg peak time (ns)\",fontsize=12)\n",
    "plt.ylabel(\"ACT3 avg peak voltage\",fontsize=12)\n",
    "plt.savefig(\"ACT3_voltage_vs_time.png\", bbox_inches='tight')"
   ]
  },
  {
   "cell_type": "markdown",
   "id": "bab1e1ab",
   "metadata": {},
   "source": [
    "## Hodoscope analysis\n",
    "#### These cuts allow us to see the individual peaks in the LGCharge plot below\n",
    "#### Please note these cuts are made just looking at the charge spectrum of the LG and the Hodoscope PMTs and cutting the tail, but perhaps this tail could be eliminated using cuts in the Aerogels (?)"
   ]
  },
  {
   "cell_type": "code",
   "execution_count": null,
   "id": "7220ddc2",
   "metadata": {},
   "outputs": [],
   "source": [
    "th_hd = 0.02\n",
    "cut_LG  = (df['IntCharge16'] > 0.05)\n",
    "\n",
    "cut_H0 =  df['IntCharge24'] > th_hd\n",
    "cut_H1 =  df['IntCharge25'] > th_hd\n",
    "cut_H2 =  df['IntCharge26'] > th_hd\n",
    "cut_H3 =  df['IntCharge27'] > th_hd\n",
    "cut_H4 =  df['IntCharge28'] > th_hd\n",
    "cut_H5 =  df['IntCharge29'] > th_hd\n",
    "cut_H6 =  df['IntCharge30'] > th_hd\n",
    "cut_H7 =  df['IntCharge31'] > th_hd\n",
    "cut_H8 =  df['IntCharge17'] > th_hd\n",
    "cut_H9 =  df['IntCharge18'] > th_hd\n",
    "cut_H10 = df['IntCharge19'] > th_hd\n",
    "cut_H11 = df['IntCharge20'] > th_hd\n",
    "cut_H12 = df['IntCharge21'] > th_hd\n",
    "cut_H13 = df['IntCharge22'] > th_hd\n",
    "cut_H14 = df['IntCharge23'] > th_hd\n",
    "\n",
    "LG_cal = 1. #120/3.\n",
    "#rng = [0, 500*3/120]\n",
    "rng = [0.0, 1.5]"
   ]
  },
  {
   "cell_type": "code",
   "execution_count": null,
   "id": "9a4e8a8c",
   "metadata": {
    "scrolled": false
   },
   "outputs": [],
   "source": [
    "fig, ax = plt.subplots(figsize=(12, 6.0))\n",
    "\n",
    "plt.hist(df[cut_H14 & cut_LG]['IntCharge16']*LG_cal, bins='auto', label=\"H14\", alpha=0.8, range=rng)\n",
    "plt.hist(df[cut_H13 & cut_LG]['IntCharge16']*LG_cal, bins='auto', label=\"H13\", alpha=0.8, range=rng)\n",
    "plt.hist(df[cut_H12 & cut_LG]['IntCharge16']*LG_cal, bins='auto', label=\"H12\", alpha=0.8, range=rng)\n",
    "plt.hist(df[cut_H11 & cut_LG]['IntCharge16']*LG_cal, bins='auto', label=\"H11\", alpha=0.8, range=rng)\n",
    "plt.hist(df[cut_H10 & cut_LG]['IntCharge16']*LG_cal, bins='auto', label=\"H10\", alpha=0.8, range=rng)\n",
    "plt.hist(df[cut_H9 & cut_LG]['IntCharge16']*LG_cal,  bins='auto', label=\"H9\",  alpha=0.8, range=rng)\n",
    "plt.hist(df[cut_H8 & cut_LG]['IntCharge16']*LG_cal,  bins='auto', label=\"H8\",  alpha=0.8, range=rng)\n",
    "plt.hist(df[cut_H7 & cut_LG]['IntCharge16']*LG_cal,  bins='auto', label=\"H7\",  alpha=0.8, range=rng)\n",
    "plt.hist(df[cut_H6 & cut_LG]['IntCharge16']*LG_cal,  bins='auto', label=\"H6\",  alpha=0.8, range=rng)\n",
    "plt.hist(df[cut_H5 & cut_LG]['IntCharge16']*LG_cal,  bins='auto', label=\"H5\",  alpha=0.8, range=rng)\n",
    "plt.hist(df[cut_H4 & cut_LG]['IntCharge16']*LG_cal,  bins='auto', label=\"H4\",  alpha=0.8, range=rng)\n",
    "plt.hist(df[cut_H3 & cut_LG]['IntCharge16']*LG_cal,  bins='auto', label=\"H3\",  alpha=0.8, range=rng)\n",
    "plt.hist(df[cut_H2 & cut_LG]['IntCharge16']*LG_cal,  bins='auto', label=\"H2\",  alpha=0.8, range=rng)\n",
    "plt.hist(df[cut_H1 & cut_LG]['IntCharge16']*LG_cal,  bins='auto', label=\"H1\",  alpha=0.8, range=rng)\n",
    "plt.hist(df[cut_H0 & cut_LG]['IntCharge16']*LG_cal,  bins='auto', label=\"H0\",  alpha=0.8, range=rng)\n",
    "  \n",
    " \n",
    "plt.legend()\n",
    "\n",
    "\n",
    "plt.xlabel(\"Lead Glass (charge)\",fontsize=20)\n",
    "plt.ylabel(\"Counts/bin\",fontsize=20)\n",
    "#plt.yscale('log')\n",
    "plt.title(\"Run {}, p = +1200 MeV/c\".format(run), fontsize=20);"
   ]
  },
  {
   "cell_type": "markdown",
   "id": "09856349",
   "metadata": {},
   "source": [
    "## Fitting the Lead Glass Charge Peaks (HodosCope Peaks)\n",
    "#### Just a regular gaussian fit using Scipy CurveFit"
   ]
  },
  {
   "cell_type": "code",
   "execution_count": null,
   "id": "95f9d2e5",
   "metadata": {},
   "outputs": [],
   "source": [
    "from scipy.stats import norm\n",
    "from scipy.optimize import curve_fit"
   ]
  },
  {
   "cell_type": "code",
   "execution_count": null,
   "id": "89fc5235",
   "metadata": {},
   "outputs": [],
   "source": [
    "data_H14 = df[cut_H14 & cut_LG]['IntCharge16']*LG_cal\n",
    "data_H13 = df[cut_H13 & cut_LG]['IntCharge16']*LG_cal\n",
    "data_H12 = df[cut_H12 & cut_LG]['IntCharge16']*LG_cal\n",
    "data_H11 = df[cut_H11 & cut_LG]['IntCharge16']*LG_cal\n",
    "data_H10 = df[cut_H10 & cut_LG]['IntCharge16']*LG_cal\n",
    "data_H9  = df[cut_H9  & cut_LG]['IntCharge16']*LG_cal\n",
    "data_H8  = df[cut_H8  & cut_LG]['IntCharge16']*LG_cal\n",
    "data_H7  = df[cut_H7  & cut_LG]['IntCharge16']*LG_cal\n",
    "data_H6  = df[cut_H6  & cut_LG]['IntCharge16']*LG_cal\n",
    "data_H5  = df[cut_H5  & cut_LG]['IntCharge16']*LG_cal\n",
    "data_H4  = df[cut_H4  & cut_LG]['IntCharge16']*LG_cal\n",
    "data_H3  = df[cut_H3  & cut_LG]['IntCharge16']*LG_cal\n",
    "data_H2  = df[cut_H2  & cut_LG]['IntCharge16']*LG_cal\n",
    "data_H1  = df[cut_H1  & cut_LG]['IntCharge16']*LG_cal\n",
    "data_H0  = df[cut_H0  & cut_LG]['IntCharge16']*LG_cal\n",
    "\n",
    "datas = [data_H0, data_H1, data_H2, data_H3, data_H4, \n",
    "         data_H5, data_H6, data_H7, data_H8, data_H9, \n",
    "         data_H10, data_H11, data_H12, data_H13, data_H14]\n",
    "\n",
    "labels = [\"H0\", \"H1\", \"H2\", \"H3\", \"H4\", \"H5\", \"H6\", \"H7\", \"H8\", \"H9\", \"H10\", \"H11\", \"H12\", \"H13\", \"H14\"]"
   ]
  },
  {
   "cell_type": "markdown",
   "id": "03ff2c62",
   "metadata": {},
   "source": [
    "### This is not automated, you need to chage some values as you change the run, such as h, h decreasing and the text positioning since the counts decrease with the beam momentum"
   ]
  },
  {
   "cell_type": "code",
   "execution_count": null,
   "id": "c6e2ac07",
   "metadata": {
    "scrolled": false
   },
   "outputs": [],
   "source": [
    "fig, ax = plt.subplots(figsize=(12, 6.0))\n",
    "h = 1400\n",
    "means = []\n",
    "\n",
    "for i,j in zip(datas, labels):    \n",
    "    data = i\n",
    "\n",
    "    hist, bin_edges = np.histogram(data, bins='auto') \n",
    "\n",
    "    bin_centers = (bin_edges[:-1] + bin_edges[1:]) / 2\n",
    "\n",
    "    def gaussian(x, amplitude, mean, stddev):\n",
    "        return amplitude * norm.pdf(x, loc=mean, scale=stddev)\n",
    "\n",
    "    # Parámetros iniciales para el ajuste (estimaciones iniciales)\n",
    "    initial_params = [1.0, 0.0, 1.0]\n",
    "\n",
    "    # Realiza el ajuste\n",
    "    popt, _ = curve_fit(gaussian, bin_centers, hist, p0=initial_params)\n",
    "\n",
    "    # Crea una curva con los parámetros ajustados\n",
    "    fit_curve = gaussian(bin_centers, *popt)\n",
    "\n",
    "    # Grafica el histograma y la curva ajustada\n",
    "    plt.hist(data, bins='auto', alpha=0.6, label=j);\n",
    "    plt.plot(bin_centers, fit_curve, 'r-', alpha=0.6)\n",
    "    plt.text(0.9, h, 'StdDev/Mean {}: {:.2f}'.format(j, popt[2]/popt[1]),fontsize=15)\n",
    "\n",
    "    plt.legend()\n",
    "    \n",
    "    plt.xlabel('Lead Glass (charge)',fontsize=20);\n",
    "    plt.ylabel('Counts/bin',fontsize=20);\n",
    "    plt.title(\"Run {}, p = +500 MeV/c\".format(run),fontsize=20);\n",
    "    \n",
    "    plt.xlim(0., 1.5)\n",
    "    \n",
    "    h -= 87\n",
    "    means.append(popt[1])\n",
    "\n",
    "    print('Valores del ajuste para {}:'.format(j))\n",
    "    print('Mean: {:.2f}'.format(popt[1]))\n",
    "    print('StdDev: {:.2f}'.format(popt[2]))\n",
    "    print(' ')"
   ]
  },
  {
   "cell_type": "markdown",
   "id": "2af078e0",
   "metadata": {},
   "source": [
    "# Try fitting just a determined range"
   ]
  },
  {
   "cell_type": "code",
   "execution_count": null,
   "id": "6072a62b",
   "metadata": {},
   "outputs": [],
   "source": [
    "#fig, ax = plt.subplots(figsize=(12, 6.0))\n",
    "#h = 500\n",
    "#\n",
    "#for i,j in zip(datas, labels):    \n",
    "#    data = i\n",
    "#\n",
    "#    hist, bin_edges = np.histogram(data, bins='auto') \n",
    "#\n",
    "#    bin_centers = (bin_edges[:-1] + bin_edges[1:]) / 2\n",
    "#\n",
    "#    def gaussian(x, amplitude, mean, stddev):\n",
    "#        return amplitude * norm.pdf(x, loc=mean, scale=stddev)\n",
    "#    \n",
    "#    # Limita los datos y el eje x hasta cierto valor máximo (por ejemplo, x = 6)\n",
    "#    max_x_value = 2.2\n",
    "#    mask = bin_centers <= max_x_value\n",
    "#    filtered_x = bin_centers[mask]\n",
    "#    filtered_hist = hist[mask]\n",
    "#\n",
    "#\n",
    "#    # Parámetros iniciales para el ajuste (estimaciones iniciales)\n",
    "#    initial_params = [1.0, 0.0, 1.0]\n",
    "#\n",
    "#    # Realiza el ajuste\n",
    "#    popt, _ = curve_fit(gaussian, filtered_x, filtered_hist, p0=initial_params)\n",
    "#\n",
    "#    # Crea una curva con los parámetros ajustados\n",
    "#    fit_curve = gaussian(filtered_x, *popt)\n",
    "#\n",
    "#    # Grafica el histograma y la curva ajustada\n",
    "#    plt.hist(data, bins='auto', alpha=0.6, label=j);\n",
    "#    plt.plot(filtered_x, fit_curve, 'r-', alpha=0.6)\n",
    "#    plt.text(2.15, h, 'StdDev {}: {:.2f}'.format(j, popt[2]),fontsize=15)\n",
    "#\n",
    "#    plt.legend()\n",
    "#    \n",
    "#    plt.xlabel('Counts/bin',fontsize=20);\n",
    "#    plt.ylabel('Lead Glass (charge)',fontsize=20);\n",
    "#    plt.title(\"Run {}, p = +800 MeV/c\".format(run),fontsize=20);\n",
    "#    \n",
    "#    plt.xlim(0.4, 3.2)\n",
    "#    \n",
    "#    h -= 27\n",
    "#\n",
    "#    #print('Valores del ajuste:')\n",
    "#    #print('Amplitude: {:.2f}'.format(popt[0]))\n",
    "#    #print('Mean: {:.2f}'.format(popt[1]))\n",
    "#    #print('StdDev: {:.2f}'.format(popt[2]))"
   ]
  },
  {
   "cell_type": "markdown",
   "id": "65703cc5",
   "metadata": {},
   "source": [
    "# 2D Plot Expected Tagged Photon Energy vs. Lead Glass Charge"
   ]
  },
  {
   "cell_type": "markdown",
   "id": "cdb04e99",
   "metadata": {},
   "source": [
    "#### hit_energy values are the \"expected gamma energy\", computed by Josh"
   ]
  },
  {
   "cell_type": "code",
   "execution_count": null,
   "id": "a9879ff1",
   "metadata": {},
   "outputs": [],
   "source": [
    "hit_energy = [0.1595155500109545, 0.16918666630815957, 0.17050944491673403, 0.18508668641801915,\n",
    "             0.1883263228952287, 0.20450156481839696, 0.21056117899451413, 0.22867222330704012,\n",
    "             0.23899202319688614, 0.25950074031219433, 0.27649806820124223, 0.30005667059694635,\n",
    "             0.32806001869009743, 0.3556345402074757, 0.40311754765565394]"
   ]
  },
  {
   "cell_type": "markdown",
   "id": "883412a5",
   "metadata": {},
   "source": [
    "#### IMPORTANT: Please note that you need to change the run momentum in this next cell"
   ]
  },
  {
   "cell_type": "code",
   "execution_count": null,
   "id": "d2ae542b",
   "metadata": {},
   "outputs": [],
   "source": [
    "run_momentum = 500\n",
    "\n",
    "actual_means = means[::-1]\n",
    "e_gamma_expected = [run_momentum - i*1000 for i in hit_energy[::-1]]"
   ]
  },
  {
   "cell_type": "code",
   "execution_count": null,
   "id": "953db7b2",
   "metadata": {},
   "outputs": [],
   "source": [
    "plt.scatter(actual_means, e_gamma_expected);\n",
    "\n",
    "plt.xlabel('Lead Glass Charge [Arbitrary Unit]');\n",
    "plt.ylabel('Tagged Photon Expected Momentum [MeV/c]');\n",
    "\n",
    "plt.title(\"Run {}, p = +500 MeV/c\".format(run),fontsize=20);"
   ]
  },
  {
   "cell_type": "markdown",
   "id": "ccc3fc43",
   "metadata": {},
   "source": [
    "# Aerogel Charged Particle Veto\n",
    "#### Akira suggested we could use Aerogel 3 as charged particle veto ensuring only non-charged particles pass through it. Aerogels 0 & 1 can be used as veto in the opposite way. These could make us get rid of the tails that appear as beam momentum increases (see peak plots for 1200 MeV)"
   ]
  },
  {
   "cell_type": "code",
   "execution_count": null,
   "id": "8b9a1c61",
   "metadata": {
    "scrolled": false
   },
   "outputs": [],
   "source": [
    "plt.hist(df['IntCharge4'], bins=40, alpha=0.7);\n",
    "plt.hist(df['IntCharge5'], bins=40, alpha=0.7);\n",
    "\n",
    "plt.yscale('log');\n",
    "\n",
    "plt.xlabel('Aerogel 3R & 3L Charge [Arbitrary Unit]');\n",
    "plt.ylabel('Counts/bins');"
   ]
  },
  {
   "cell_type": "code",
   "execution_count": null,
   "id": "d7194cb3",
   "metadata": {},
   "outputs": [],
   "source": [
    "fig = plt.figure(figsize=(18,7))\n",
    "\n",
    "ax1 = fig.add_subplot(121)\n",
    "ax1.hist(df['IntCharge0'], bins=40, alpha=0.7, label='AG0R');\n",
    "ax1.hist(df['IntCharge1'], bins=40, alpha=0.7, label='AG0L');\n",
    "\n",
    "ax1.set_yscale('log');\n",
    "\n",
    "ax1.set_xlabel('Aerogel 0R & 0L Charge [Arbitrary Unit]');\n",
    "ax1.set_ylabel('Counts/bins');\n",
    "plt.legend();\n",
    "\n",
    "ax2 = fig.add_subplot(122)\n",
    "ax2.hist(df['IntCharge2'], bins=40, alpha=0.7, label='AG1R');\n",
    "ax2.hist(df['IntCharge3'], bins=40, alpha=0.7, label='AG1L');\n",
    "\n",
    "ax2.set_yscale('log');\n",
    "\n",
    "ax2.set_xlabel('Aerogel 1R & 1L Charge [Arbitrary Unit]');\n",
    "ax2.set_ylabel('Counts/bins');\n",
    "plt.legend();"
   ]
  },
  {
   "cell_type": "markdown",
   "id": "aa2715a4",
   "metadata": {},
   "source": [
    "#### Actual cuts for the aerogels. Many thresholds were tested and it seems like we cannot get rid of the tails using Aerogels."
   ]
  },
  {
   "cell_type": "code",
   "execution_count": null,
   "id": "67acf09d",
   "metadata": {},
   "outputs": [],
   "source": [
    "ag01_th = 0.0\n",
    "ag3_th  = 0.1\n",
    "\n",
    "cut_AG0R = df['IntCharge0'] > ag01_th\n",
    "cut_AG0L = df['IntCharge1'] > ag01_th\n",
    "cut_AG1R = df['IntCharge2'] > ag01_th\n",
    "cut_AG1L = df['IntCharge3'] > ag01_th\n",
    "cut_AG3R = df['IntCharge4'] < ag3_th\n",
    "cut_AG3L = df['IntCharge5'] < ag3_th\n",
    "\n",
    "cut_AG = cut_AG0R & cut_AG0L & cut_AG1R & cut_AG1L & cut_AG3R & cut_AG3L"
   ]
  },
  {
   "cell_type": "code",
   "execution_count": null,
   "id": "da82a6ef",
   "metadata": {},
   "outputs": [],
   "source": [
    "fig, ax = plt.subplots(figsize=(12, 6.0))\n",
    "\n",
    "plt.hist(df[cut_H14 & cut_LG & cut_AG]['IntCharge16']*LG_cal, bins='auto', label=\"H14\", alpha=0.8, range=rng)\n",
    "plt.hist(df[cut_H13 & cut_LG & cut_AG]['IntCharge16']*LG_cal, bins='auto', label=\"H13\", alpha=0.8, range=rng)\n",
    "plt.hist(df[cut_H12 & cut_LG & cut_AG]['IntCharge16']*LG_cal, bins='auto', label=\"H12\", alpha=0.8, range=rng)\n",
    "plt.hist(df[cut_H11 & cut_LG & cut_AG]['IntCharge16']*LG_cal, bins='auto', label=\"H11\", alpha=0.8, range=rng)\n",
    "plt.hist(df[cut_H10 & cut_LG & cut_AG]['IntCharge16']*LG_cal, bins='auto', label=\"H10\", alpha=0.8, range=rng)\n",
    "plt.hist(df[cut_H9  & cut_LG & cut_AG]['IntCharge16']*LG_cal,  bins='auto', label=\"H9\",  alpha=0.8, range=rng)\n",
    "plt.hist(df[cut_H8  & cut_LG & cut_AG]['IntCharge16']*LG_cal,  bins='auto', label=\"H8\",  alpha=0.8, range=rng)\n",
    "plt.hist(df[cut_H7  & cut_LG & cut_AG]['IntCharge16']*LG_cal,  bins='auto', label=\"H7\",  alpha=0.8, range=rng)\n",
    "plt.hist(df[cut_H6  & cut_LG & cut_AG]['IntCharge16']*LG_cal,  bins='auto', label=\"H6\",  alpha=0.8, range=rng)\n",
    "plt.hist(df[cut_H5  & cut_LG & cut_AG]['IntCharge16']*LG_cal,  bins='auto', label=\"H5\",  alpha=0.8, range=rng)\n",
    "plt.hist(df[cut_H4  & cut_LG & cut_AG]['IntCharge16']*LG_cal,  bins='auto', label=\"H4\",  alpha=0.8, range=rng)\n",
    "plt.hist(df[cut_H3  & cut_LG & cut_AG]['IntCharge16']*LG_cal,  bins='auto', label=\"H3\",  alpha=0.8, range=rng)\n",
    "plt.hist(df[cut_H2  & cut_LG & cut_AG]['IntCharge16']*LG_cal,  bins='auto', label=\"H2\",  alpha=0.8, range=rng)\n",
    "plt.hist(df[cut_H1  & cut_LG & cut_AG]['IntCharge16']*LG_cal,  bins='auto', label=\"H1\",  alpha=0.8, range=rng)\n",
    "plt.hist(df[cut_H0  & cut_LG & cut_AG]['IntCharge16']*LG_cal,  bins='auto', label=\"H0\",  alpha=0.8, range=rng)\n",
    "\n",
    " \n",
    "plt.legend()\n",
    "\n",
    "\n",
    "plt.xlabel(\"Lead Glass (charge)\",fontsize=20)\n",
    "plt.ylabel(\"Counts/bin\",fontsize=20)\n",
    "#plt.yscale('log')\n",
    "plt.title(\"Run {}, p = +1200 MeV/c\".format(run), fontsize=20);"
   ]
  },
  {
   "cell_type": "code",
   "execution_count": null,
   "id": "e28cfe34",
   "metadata": {},
   "outputs": [],
   "source": []
  }
 ],
 "metadata": {
  "kernelspec": {
   "display_name": "Python 3 (ipykernel)",
   "language": "python",
   "name": "python3"
  },
  "language_info": {
   "codemirror_mode": {
    "name": "ipython",
    "version": 3
   },
   "file_extension": ".py",
   "mimetype": "text/x-python",
   "name": "python",
   "nbconvert_exporter": "python",
   "pygments_lexer": "ipython3",
   "version": "3.9.6"
  }
 },
 "nbformat": 4,
 "nbformat_minor": 5
}
